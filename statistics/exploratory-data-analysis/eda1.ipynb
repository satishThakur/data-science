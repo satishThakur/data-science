{
 "cells": [
  {
   "cell_type": "markdown",
   "id": "7dced0ea-8312-4d63-bfcb-2f8efe5a2fce",
   "metadata": {},
   "source": [
    "# Topics Covered in this notebook.\n",
    "- Reading CSV into a Dataframe.\n",
    "- Rename the columns and retain only needed columns. \n",
    "- Cleaning columns - For example converting to float or formating percentages or dates.\n",
    "- Drive a new column whose value is based on other columns. \n",
    "\n",
    "\n",
    "# Visulization.\n",
    "- Distributions.\n",
    "- Boxplot.\n",
    "\n",
    "\n"
   ]
  },
  {
   "cell_type": "markdown",
   "id": "424910ac-526e-4b71-9604-27a630de62b2",
   "metadata": {},
   "source": []
  },
  {
   "cell_type": "code",
   "execution_count": null,
   "id": "247b8c97-8090-4847-806c-235456b167e5",
   "metadata": {},
   "outputs": [],
   "source": []
  },
  {
   "cell_type": "code",
   "execution_count": null,
   "id": "f6c15257-529c-4dd6-815f-065179f382a2",
   "metadata": {},
   "outputs": [],
   "source": []
  }
 ],
 "metadata": {
  "kernelspec": {
   "display_name": "Python 3 (ipykernel)",
   "language": "python",
   "name": "python3"
  },
  "language_info": {
   "codemirror_mode": {
    "name": "ipython",
    "version": 3
   },
   "file_extension": ".py",
   "mimetype": "text/x-python",
   "name": "python",
   "nbconvert_exporter": "python",
   "pygments_lexer": "ipython3",
   "version": "3.10.12"
  }
 },
 "nbformat": 4,
 "nbformat_minor": 5
}
