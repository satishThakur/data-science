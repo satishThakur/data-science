{
 "cells": [
  {
   "cell_type": "markdown",
   "id": "467c5c5d-09e6-492a-b7bd-828ae371ee39",
   "metadata": {},
   "source": [
    "# Penguin Dataset EDA.\n",
    "We would example the data from the penguin dataset, for example examine various features like categorical and numeric.\n",
    "## Things we would do\n",
    "- Look at the shape of data, missing values.\n",
    "- Summary statistics for numeric.\n",
    "- Dimentions of categorical values.\n",
    "- Missing values.\n",
    "- Ways to fix missing values.\n",
    "- Data distribution for individual feature.\n",
    "- Any correlation between existing features.\n",
    "- Summary of any meaningful insights we find in the dataset."
   ]
  },
  {
   "cell_type": "markdown",
   "id": "30f9cb94-2861-4cd3-a529-57fbf89cd493",
   "metadata": {},
   "source": [
    "Lets first import all the libraries we need for the project. We would use:\n",
    "- Pandas for Dataframe as well as integration with mathplot.\n",
    "- Matplot for visualization.\n",
    "- Numpy for any computation.\n",
    "- Seaborn if needed for additional visualization."
   ]
  },
  {
   "cell_type": "code",
   "execution_count": 11,
   "id": "6138ee31-6e5a-4271-bb92-c58ae66c23fc",
   "metadata": {},
   "outputs": [],
   "source": [
    "import numpy as np\n",
    "import pandas as pd\n",
    "import matplotlib.pyplot as plt\n",
    "import seaborn as sns\n",
    "pd.set_option('display.max_columns', None)\n",
    "pd.set_option('display.width', 200)"
   ]
  },
  {
   "cell_type": "markdown",
   "id": "97363180-cf93-4b98-8b5e-35fbb1d2e722",
   "metadata": {},
   "source": [
    "Now we would load the CSV file into dataframe for analysis. We would print first few rows and the shape of the dataset."
   ]
  },
  {
   "cell_type": "code",
   "execution_count": 13,
   "id": "beec7f46-acaa-4444-acde-65f183e88408",
   "metadata": {},
   "outputs": [
    {
     "name": "stdout",
     "output_type": "stream",
     "text": [
      "  species     island  culmen_length_mm  culmen_depth_mm  flipper_length_mm  body_mass_g     sex\n",
      "0  Adelie  Torgersen              39.1             18.7              181.0       3750.0    MALE\n",
      "1  Adelie  Torgersen              39.5             17.4              186.0       3800.0  FEMALE\n",
      "2  Adelie  Torgersen              40.3             18.0              195.0       3250.0  FEMALE\n",
      "3  Adelie  Torgersen               NaN              NaN                NaN          NaN     NaN\n",
      "4  Adelie  Torgersen              36.7             19.3              193.0       3450.0  FEMALE\n",
      "\n",
      "\n",
      "Shape:\n",
      "(344, 7)\n"
     ]
    }
   ],
   "source": [
    "data = pd.read_csv(\"./data/penguins_size.csv\")\n",
    "print(data.head())\n",
    "print(\"\\n\\nShape:\")\n",
    "print(data.shape)"
   ]
  },
  {
   "cell_type": "markdown",
   "id": "b6d0ca44-ba4a-4896-ac6c-a516ae55fe27",
   "metadata": {},
   "source": [
    "Lets look at basic information. Which include the datatypes."
   ]
  },
  {
   "cell_type": "code",
   "execution_count": 14,
   "id": "4ab73700-6127-482d-a32f-a2080deb9be9",
   "metadata": {},
   "outputs": [
    {
     "name": "stdout",
     "output_type": "stream",
     "text": [
      "<class 'pandas.core.frame.DataFrame'>\n",
      "RangeIndex: 344 entries, 0 to 343\n",
      "Data columns (total 7 columns):\n",
      " #   Column             Non-Null Count  Dtype  \n",
      "---  ------             --------------  -----  \n",
      " 0   species            344 non-null    object \n",
      " 1   island             344 non-null    object \n",
      " 2   culmen_length_mm   342 non-null    float64\n",
      " 3   culmen_depth_mm    342 non-null    float64\n",
      " 4   flipper_length_mm  342 non-null    float64\n",
      " 5   body_mass_g        342 non-null    float64\n",
      " 6   sex                334 non-null    object \n",
      "dtypes: float64(4), object(3)\n",
      "memory usage: 18.9+ KB\n",
      "None\n"
     ]
    }
   ],
   "source": [
    "print(data.info())"
   ]
  },
  {
   "cell_type": "code",
   "execution_count": 16,
   "id": "bafe2e70-b6b2-4a86-92e4-18ce3bbe1828",
   "metadata": {},
   "outputs": [
    {
     "name": "stdout",
     "output_type": "stream",
     "text": [
      "species               0\n",
      "island                0\n",
      "culmen_length_mm      2\n",
      "culmen_depth_mm       2\n",
      "flipper_length_mm     2\n",
      "body_mass_g           2\n",
      "sex                  10\n",
      "dtype: int64\n"
     ]
    }
   ],
   "source": [
    "print(data.isna().sum())"
   ]
  },
  {
   "cell_type": "code",
   "execution_count": 17,
   "id": "9cb6d8e1-3688-419f-b265-0635ea03b8e2",
   "metadata": {},
   "outputs": [
    {
     "data": {
      "text/html": [
       "<div>\n",
       "<style scoped>\n",
       "    .dataframe tbody tr th:only-of-type {\n",
       "        vertical-align: middle;\n",
       "    }\n",
       "\n",
       "    .dataframe tbody tr th {\n",
       "        vertical-align: top;\n",
       "    }\n",
       "\n",
       "    .dataframe thead th {\n",
       "        text-align: right;\n",
       "    }\n",
       "</style>\n",
       "<table border=\"1\" class=\"dataframe\">\n",
       "  <thead>\n",
       "    <tr style=\"text-align: right;\">\n",
       "      <th></th>\n",
       "      <th>culmen_length_mm</th>\n",
       "      <th>culmen_depth_mm</th>\n",
       "      <th>flipper_length_mm</th>\n",
       "      <th>body_mass_g</th>\n",
       "    </tr>\n",
       "  </thead>\n",
       "  <tbody>\n",
       "    <tr>\n",
       "      <th>count</th>\n",
       "      <td>342.000000</td>\n",
       "      <td>342.000000</td>\n",
       "      <td>342.000000</td>\n",
       "      <td>342.000000</td>\n",
       "    </tr>\n",
       "    <tr>\n",
       "      <th>mean</th>\n",
       "      <td>43.921930</td>\n",
       "      <td>17.151170</td>\n",
       "      <td>200.915205</td>\n",
       "      <td>4201.754386</td>\n",
       "    </tr>\n",
       "    <tr>\n",
       "      <th>std</th>\n",
       "      <td>5.459584</td>\n",
       "      <td>1.974793</td>\n",
       "      <td>14.061714</td>\n",
       "      <td>801.954536</td>\n",
       "    </tr>\n",
       "    <tr>\n",
       "      <th>min</th>\n",
       "      <td>32.100000</td>\n",
       "      <td>13.100000</td>\n",
       "      <td>172.000000</td>\n",
       "      <td>2700.000000</td>\n",
       "    </tr>\n",
       "    <tr>\n",
       "      <th>25%</th>\n",
       "      <td>39.225000</td>\n",
       "      <td>15.600000</td>\n",
       "      <td>190.000000</td>\n",
       "      <td>3550.000000</td>\n",
       "    </tr>\n",
       "    <tr>\n",
       "      <th>50%</th>\n",
       "      <td>44.450000</td>\n",
       "      <td>17.300000</td>\n",
       "      <td>197.000000</td>\n",
       "      <td>4050.000000</td>\n",
       "    </tr>\n",
       "    <tr>\n",
       "      <th>75%</th>\n",
       "      <td>48.500000</td>\n",
       "      <td>18.700000</td>\n",
       "      <td>213.000000</td>\n",
       "      <td>4750.000000</td>\n",
       "    </tr>\n",
       "    <tr>\n",
       "      <th>max</th>\n",
       "      <td>59.600000</td>\n",
       "      <td>21.500000</td>\n",
       "      <td>231.000000</td>\n",
       "      <td>6300.000000</td>\n",
       "    </tr>\n",
       "  </tbody>\n",
       "</table>\n",
       "</div>"
      ],
      "text/plain": [
       "       culmen_length_mm  culmen_depth_mm  flipper_length_mm  body_mass_g\n",
       "count        342.000000       342.000000         342.000000   342.000000\n",
       "mean          43.921930        17.151170         200.915205  4201.754386\n",
       "std            5.459584         1.974793          14.061714   801.954536\n",
       "min           32.100000        13.100000         172.000000  2700.000000\n",
       "25%           39.225000        15.600000         190.000000  3550.000000\n",
       "50%           44.450000        17.300000         197.000000  4050.000000\n",
       "75%           48.500000        18.700000         213.000000  4750.000000\n",
       "max           59.600000        21.500000         231.000000  6300.000000"
      ]
     },
     "execution_count": 17,
     "metadata": {},
     "output_type": "execute_result"
    }
   ],
   "source": [
    "data.describe()"
   ]
  },
  {
   "cell_type": "markdown",
   "id": "a15383f6-506f-46af-ac4e-5103f4419b1e",
   "metadata": {},
   "source": [
    "Now lets also look at categorical features about their dimentionality."
   ]
  },
  {
   "cell_type": "code",
   "execution_count": 20,
   "id": "a1ab716b-c1e8-4d7e-9422-7fdc16170f6e",
   "metadata": {},
   "outputs": [
    {
     "name": "stdout",
     "output_type": "stream",
     "text": [
      "species\n",
      "Adelie       152\n",
      "Gentoo       124\n",
      "Chinstrap     68\n",
      "Name: count, dtype: int64\n",
      "\n",
      "island\n",
      "Biscoe       168\n",
      "Dream        124\n",
      "Torgersen     52\n",
      "Name: count, dtype: int64\n",
      "\n",
      "sex\n",
      "MALE      168\n",
      "FEMALE    165\n",
      ".           1\n",
      "Name: count, dtype: int64\n"
     ]
    }
   ],
   "source": [
    "species_dimentions = data['species'].value_counts()\n",
    "island_dimentions = data['island'].value_counts()\n",
    "sex_dimentions = data['sex'].value_counts()\n",
    "\n",
    "print(species_dimentions, end=\"\\n\\n\")\n",
    "print(island_dimentions, end=\"\\n\\n\")\n",
    "print(sex_dimentions)"
   ]
  },
  {
   "cell_type": "markdown",
   "id": "af5a0187-a1c6-4b6c-aabe-68b2c450d0a3",
   "metadata": {},
   "source": [
    "Lets fix the  . sex and make it nan for time being. "
   ]
  },
  {
   "cell_type": "code",
   "execution_count": 21,
   "id": "f94b9e49-9a3d-4871-8722-3889390609a1",
   "metadata": {},
   "outputs": [],
   "source": [
    "data[\"sex\"] = data[\"sex\"].replace(\".\", np.nan)"
   ]
  },
  {
   "cell_type": "code",
   "execution_count": 22,
   "id": "e5d720b4-8f01-41b3-a9e9-6280b40aa657",
   "metadata": {},
   "outputs": [
    {
     "name": "stdout",
     "output_type": "stream",
     "text": [
      "species\n",
      "Adelie       152\n",
      "Gentoo       124\n",
      "Chinstrap     68\n",
      "Name: count, dtype: int64\n",
      "\n",
      "island\n",
      "Biscoe       168\n",
      "Dream        124\n",
      "Torgersen     52\n",
      "Name: count, dtype: int64\n",
      "\n",
      "sex\n",
      "MALE      168\n",
      "FEMALE    165\n",
      "Name: count, dtype: int64\n"
     ]
    }
   ],
   "source": [
    "species_dimentions = data['species'].value_counts()\n",
    "island_dimentions = data['island'].value_counts()\n",
    "sex_dimentions = data['sex'].value_counts()\n",
    "\n",
    "print(species_dimentions, end=\"\\n\\n\")\n",
    "print(island_dimentions, end=\"\\n\\n\")\n",
    "print(sex_dimentions)"
   ]
  },
  {
   "cell_type": "code",
   "execution_count": 23,
   "id": "7e653d1b-f87f-4f10-8dc4-bd0941df19b6",
   "metadata": {},
   "outputs": [
    {
     "data": {
      "text/plain": [
       "species               0\n",
       "island                0\n",
       "culmen_length_mm      2\n",
       "culmen_depth_mm       2\n",
       "flipper_length_mm     2\n",
       "body_mass_g           2\n",
       "sex                  11\n",
       "dtype: int64"
      ]
     },
     "execution_count": 23,
     "metadata": {},
     "output_type": "execute_result"
    }
   ],
   "source": [
    "data.isna().sum()"
   ]
  },
  {
   "cell_type": "code",
   "execution_count": null,
   "id": "cda48cbf-b51d-4f41-a40b-fa7f3ac8c4e9",
   "metadata": {},
   "outputs": [],
   "source": []
  }
 ],
 "metadata": {
  "kernelspec": {
   "display_name": "Python 3 (ipykernel)",
   "language": "python",
   "name": "python3"
  },
  "language_info": {
   "codemirror_mode": {
    "name": "ipython",
    "version": 3
   },
   "file_extension": ".py",
   "mimetype": "text/x-python",
   "name": "python",
   "nbconvert_exporter": "python",
   "pygments_lexer": "ipython3",
   "version": "3.10.12"
  }
 },
 "nbformat": 4,
 "nbformat_minor": 5
}
