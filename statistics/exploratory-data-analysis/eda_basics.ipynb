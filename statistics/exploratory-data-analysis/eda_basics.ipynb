{
 "cells": [
  {
   "cell_type": "markdown",
   "metadata": {},
   "source": [
    "# Exploratory Data Analysis Basics\n",
    "\n",
    "This notebook demonstrates fundamental techniques for exploratory data analysis."
   ]
  },
  {
   "cell_type": "code",
   "execution_count": null,
   "metadata": {},
   "outputs": [],
   "source": [
    "# Import necessary libraries\n",
    "import numpy as np\n",
    "import pandas as pd\n",
    "import matplotlib.pyplot as plt\n",
    "import seaborn as sns\n",
    "\n",
    "# Set visualization styles\n",
    "sns.set(style=\"whitegrid\")\n",
    "plt.rcParams[\"figure.figsize\"] = (12, 6)"
   ]
  },
  {
   "cell_type": "markdown",
   "metadata": {},
   "source": [
    "## Loading and Examining Data\n",
    "\n",
    "We'll load a sample dataset from seaborn to demonstrate EDA techniques."
   ]
  },
  {
   "cell_type": "code",
   "execution_count": null,
   "metadata": {},
   "outputs": [],
   "source": [
    "# Load a sample dataset\n",
    "tips = sns.load_dataset('tips')\n",
    "\n",
    "# Display the first few rows\n",
    "tips.head()"
   ]
  },
  {
   "cell_type": "code",
   "execution_count": null,
   "metadata": {},
   "outputs": [],
   "source": [
    "# Get basic information about the dataset\n",
    "tips.info()"
   ]
  },
  {
   "cell_type": "code",
   "execution_count": null,
   "metadata": {},
   "outputs": [],
   "source": [
    "# Summary statistics\n",
    "tips.describe()"
   ]
  },
  {
   "cell_type": "markdown",
   "metadata": {},
   "source": [
    "## Data Visualization\n",
    "\n",
    "### Univariate Analysis"
   ]
  },
  {
   "cell_type": "code",
   "execution_count": null,
   "metadata": {},
   "outputs": [],
   "source": [
    "# Distribution of total bill\n",
    "plt.figure(figsize=(12, 6))\n",
    "\n",
    "plt.subplot(1, 2, 1)\n",
    "sns.histplot(tips['total_bill'], kde=True)\n",
    "plt.title('Histogram of Total Bill')\n",
    "\n",
    "plt.subplot(1, 2, 2)\n",
    "sns.boxplot(x=tips['total_bill'])\n",
    "plt.title('Boxplot of Total Bill')\n",
    "\n",
    "plt.tight_layout()\n",
    "plt.show()"
   ]
  },
  {
   "cell_type": "code",
   "execution_count": null,
   "metadata": {},
   "outputs": [],
   "source": [
    "# Count plot for categorical variables\n",
    "plt.figure(figsize=(12, 5))\n",
    "\n",
    "plt.subplot(1, 3, 1)\n",
    "sns.countplot(x='day', data=tips)\n",
    "plt.title('Count by Day')\n",
    "\n",
    "plt.subplot(1, 3, 2)\n",
    "sns.countplot(x='time', data=tips)\n",
    "plt.title('Count by Time')\n",
    "\n",
    "plt.subplot(1, 3, 3)\n",
    "sns.countplot(x='sex', data=tips)\n",
    "plt.title('Count by Sex')\n",
    "\n",
    "plt.tight_layout()\n",
    "plt.show()"
   ]
  },
  {
   "cell_type": "markdown",
   "metadata": {},
   "source": [
    "### Bivariate Analysis"
   ]
  },
  {
   "cell_type": "code",
   "execution_count": null,
   "metadata": {},
   "outputs": [],
   "source": [
    "# Relationship between total bill and tip\n",
    "plt.figure(figsize=(12, 5))\n",
    "\n",
    "plt.subplot(1, 2, 1)\n",
    "sns.scatterplot(x='total_bill', y='tip', data=tips)\n",
    "plt.title('Tip vs Total Bill')\n",
    "\n",
    "plt.subplot(1, 2, 2)\n",
    "sns.regplot(x='total_bill', y='tip', data=tips)\n",
    "plt.title('Tip vs Total Bill with Regression Line')\n",
    "\n",
    "plt.tight_layout()\n",
    "plt.show()"
   ]
  },
  {
   "cell_type": "code",
   "execution_count": null,
   "metadata": {},
   "outputs": [],
   "source": [
    "# Boxplots of total bill by various categories\n",
    "plt.figure(figsize=(12, 10))\n",
    "\n",
    "plt.subplot(2, 2, 1)\n",
    "sns.boxplot(x='day', y='total_bill', data=tips)\n",
    "plt.title('Total Bill by Day')\n",
    "\n",
    "plt.subplot(2, 2, 2)\n",
    "sns.boxplot(x='time', y='total_bill', data=tips)\n",
    "plt.title('Total Bill by Time')\n",
    "\n",
    "plt.subplot(2, 2, 3)\n",
    "sns.boxplot(x='sex', y='total_bill', data=tips)\n",
    "plt.title('Total Bill by Sex')\n",
    "\n",
    "plt.subplot(2, 2, 4)\n",
    "sns.boxplot(x='smoker', y='total_bill', data=tips)\n",
    "plt.title('Total Bill by Smoker Status')\n",
    "\n",
    "plt.tight_layout()\n",
    "plt.show()"
   ]
  },
  {
   "cell_type": "markdown",
   "metadata": {},
   "source": [
    "### Multivariate Analysis"
   ]
  },
  {
   "cell_type": "code",
   "execution_count": null,
   "metadata": {},
   "outputs": [],
   "source": [
    "# Creating a correlation matrix\n",
    "numeric_tips = tips.select_dtypes(include=[np.number])\n",
    "corr = numeric_tips.corr()\n",
    "\n",
    "plt.figure(figsize=(10, 8))\n",
    "sns.heatmap(corr, annot=True, cmap='coolwarm', linewidths=0.5)\n",
    "plt.title('Correlation Matrix')\n",
    "plt.show()"
   ]
  },
  {
   "cell_type": "code",
   "execution_count": null,
   "metadata": {},
   "outputs": [],
   "source": [
    "# Pairplot for all numeric variables\n",
    "sns.pairplot(tips, hue='time')\n",
    "plt.suptitle('Pairplot of Numeric Variables', y=1.02)\n",
    "plt.show()"
   ]
  },
  {
   "cell_type": "code",
   "execution_count": null,
   "metadata": {},
   "outputs": [],
   "source": [
    "# Advanced visualization - facetgrid\n",
    "g = sns.FacetGrid(tips, col=\"sex\", row=\"smoker\", height=4)\n",
    "g.map(sns.scatterplot, \"total_bill\", \"tip\")\n",
    "g.add_legend()\n",
    "plt.show()"
   ]
  },
  {
   "cell_type": "markdown",
   "metadata": {},
   "source": [
    "## Statistical Analysis"
   ]
  },
  {
   "cell_type": "code",
   "execution_count": null,
   "metadata": {},
   "outputs": [],
   "source": [
    "# Group by analysis\n",
    "tips.groupby('day')['total_bill'].agg(['count', 'mean', 'std', 'min', 'max'])"
   ]
  },
  {
   "cell_type": "code",
   "execution_count": null,
   "metadata": {},
   "outputs": [],
   "source": [
    "# Pivot table\n",
    "pd.pivot_table(tips, index='day', columns='time', values='total_bill', aggfunc='mean')"
   ]
  },
  {
   "cell_type": "markdown",
   "metadata": {},
   "source": [
    "## Conclusion\n",
    "\n",
    "This notebook has demonstrated various EDA techniques including:\n",
    "- Data overview and summary statistics\n",
    "- Univariate analysis with histograms and boxplots\n",
    "- Bivariate analysis with scatter plots and categorical comparisons\n",
    "- Multivariate analysis with correlation matrices and pair plots\n",
    "- Statistical summaries with groupby and pivot tables\n",
    "\n",
    "These techniques help in understanding the data patterns, relationships, and potential insights."
   ]
  }
 ],
 "metadata": {
  "kernelspec": {
   "display_name": "Python 3",
   "language": "python",
   "name": "python3"
  },
  "language_info": {
   "codemirror_mode": {
    "name": "ipython",
    "version": 3
   },
   "file_extension": ".py",
   "mimetype": "text/x-python",
   "name": "python",
   "nbconvert_exporter": "python",
   "pygments_lexer": "ipython3",
   "version": "3.10.12"
  }
 },
 "nbformat": 4,
 "nbformat_minor": 4
}