{
 "cells": [
  {
   "cell_type": "markdown",
   "id": "089ccfd4",
   "metadata": {},
   "source": [
    "# Gradient Descent"
   ]
  },
  {
   "cell_type": "markdown",
   "id": "b0dd6ace",
   "metadata": {},
   "source": [
    "As we have summarized - we want to find values of w and b which minimizes the cost function. What we would do in this exercise is:\n",
    "* Write a function which calculate cost given w and b.\n",
    "* Write a function which can give us delta for w and b (for given w and b) - called gradient.\n",
    "* Use the above function to write gradient_decent which will converge w and b to global minima. "
   ]
  },
  {
   "cell_type": "code",
   "execution_count": 1,
   "id": "2269ed8d",
   "metadata": {},
   "outputs": [],
   "source": [
    "import numpy as np\n",
    "import matplotlib.pyplot as plt"
   ]
  },
  {
   "cell_type": "code",
   "execution_count": 2,
   "id": "f88f445f",
   "metadata": {},
   "outputs": [],
   "source": [
    "x_train = np.array([1.0, 2.0])\n",
    "y_train = np.array([300.0, 500.0])"
   ]
  },
  {
   "cell_type": "code",
   "execution_count": 3,
   "id": "53645ff1",
   "metadata": {},
   "outputs": [],
   "source": [
    "#functoin to predict y from x given parameters w and b\n",
    "def hypothesis(x, w, b):\n",
    "    return w * x + b"
   ]
  },
  {
   "cell_type": "code",
   "execution_count": 4,
   "id": "49bcc1ad",
   "metadata": {},
   "outputs": [
    {
     "name": "stdout",
     "output_type": "stream",
     "text": [
      "300.0\n"
     ]
    }
   ],
   "source": [
    "print(hypothesis(1.0, 200, 100))"
   ]
  },
  {
   "cell_type": "code",
   "execution_count": 5,
   "id": "e54af362",
   "metadata": {},
   "outputs": [],
   "source": [
    "#calculate cost from current training set.\n",
    "#x and y both are vetors here.\n",
    "def calculate_cost(w, b, x, y):\n",
    "    cost = 0\n",
    "    m = x.size\n",
    "    for i in range(m):\n",
    "        y_hat = hypothesis(x[i], w, b)\n",
    "        cost = cost + (y_hat - y[i])**2\n",
    "    return cost/2*m    \n",
    "    \n",
    "    "
   ]
  },
  {
   "cell_type": "code",
   "execution_count": 6,
   "id": "0d23ca7f",
   "metadata": {},
   "outputs": [
    {
     "name": "stdout",
     "output_type": "stream",
     "text": [
      "5000.0\n"
     ]
    }
   ],
   "source": [
    "print(calculate_cost(200, 150, x_train, y_train))"
   ]
  },
  {
   "cell_type": "code",
   "execution_count": 7,
   "id": "40bdc5a3",
   "metadata": {},
   "outputs": [],
   "source": [
    "def calculate_gradient(w, b, x, y):\n",
    "    w_grad = 0.0\n",
    "    b_grad = 0.0\n",
    "    m = x.size\n",
    "    for i in range(m):\n",
    "        f_w_b = hypothesis(x[i], w, b)\n",
    "        w_grad = w_grad + (f_w_b - y[i]) * x[i]\n",
    "        b_grad = b_grad + (f_w_b - y[i])\n",
    "    return (w_grad/m, b_grad/m)    "
   ]
  },
  {
   "cell_type": "code",
   "execution_count": 8,
   "id": "a9121fd8",
   "metadata": {},
   "outputs": [
    {
     "name": "stdout",
     "output_type": "stream",
     "text": [
      "(-510.0, -315.0)\n",
      "(1050.0, 650.0)\n"
     ]
    }
   ],
   "source": [
    "print(calculate_gradient(50,10, x_train, y_train))\n",
    "print(calculate_gradient(500,300, x_train, y_train))\n"
   ]
  },
  {
   "cell_type": "code",
   "execution_count": 9,
   "id": "a77040f4",
   "metadata": {},
   "outputs": [],
   "source": [
    "def gradient_decent(w, b, alpha, num_iter, x_train, y_train):\n",
    "    cost_history = []\n",
    "    for i in range(num_iter):\n",
    "        (w_delta, b_delta) = calculate_gradient(w,b,x_train,y_train)\n",
    "        w = w - alpha * w_delta\n",
    "        b = b - alpha * b_delta\n",
    "        cost_history.append(calculate_cost(w, b, x_train, y_train))                  \n",
    "    \n",
    "    return (w,b, cost_history)\n",
    "    "
   ]
  },
  {
   "cell_type": "code",
   "execution_count": 10,
   "id": "8d6e5b03",
   "metadata": {},
   "outputs": [
    {
     "name": "stdout",
     "output_type": "stream",
     "text": [
      "199.99285075131766 100.011567727362\n"
     ]
    }
   ],
   "source": [
    "(w,b, J_hist) = gradient_decent(0.0, 0.0, 1.0e-2, 10000, x_train, y_train)\n",
    "print(w,b)"
   ]
  },
  {
   "cell_type": "code",
   "execution_count": 11,
   "id": "1f76d97f",
   "metadata": {},
   "outputs": [
    {
     "data": {
      "image/png": "[encoded data removed]",
      "text/plain": [
       "<Figure size 864x288 with 2 Axes>"
      ]
     },
     "metadata": {
      "needs_background": "light"
     },
     "output_type": "display_data"
    }
   ],
   "source": [
    "# plot cost versus iteration  \n",
    "fig, (ax1, ax2) = plt.subplots(1, 2, constrained_layout=True, figsize=(12,4))\n",
    "ax1.plot(J_hist[:100])\n",
    "ax2.plot(1000 + np.arange(len(J_hist[1000:])), J_hist[1000:])\n",
    "ax1.set_title(\"Cost vs. iteration(start)\");  ax2.set_title(\"Cost vs. iteration (end)\")\n",
    "ax1.set_ylabel('Cost')            ;  ax2.set_ylabel('Cost') \n",
    "ax1.set_xlabel('iteration step')  ;  ax2.set_xlabel('iteration step') \n",
    "plt.show()"
   ]
  },
  {
   "cell_type": "code",
   "execution_count": null,
   "id": "4b75fc65",
   "metadata": {},
   "outputs": [],
   "source": []
  }
 ],
 "metadata": {
  "kernelspec": {
   "display_name": "Python 3 (ipykernel)",
   "language": "python",
   "name": "python3"
  },
  "language_info": {
   "codemirror_mode": {
    "name": "ipython",
    "version": 3
   },
   "file_extension": ".py",
   "mimetype": "text/x-python",
   "name": "python",
   "nbconvert_exporter": "python",
   "pygments_lexer": "ipython3",
   "version": "3.8.9"
  }
 },
 "nbformat": 4,
 "nbformat_minor": 5
}
