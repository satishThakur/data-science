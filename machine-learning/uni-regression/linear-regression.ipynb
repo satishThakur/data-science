{
 "cells": [
  {
   "cell_type": "markdown",
   "id": "2eb8b3f3",
   "metadata": {},
   "source": [
    "# Linear Regression"
   ]
  },
  {
   "cell_type": "markdown",
   "id": "aeca44a7",
   "metadata": {},
   "source": [
    "## Context\n",
    "We would taken an example where we have data about prices of the houses w.r.t. size of the houses. We would try to build univariate linear regression model which predicts the price of a house given its size.\n",
    "As this is liear regression with one input variable or feature our function or hypothesis would be:\n",
    "$$ f_{w,b}(x) = wx + b \\tag{1}$$"
   ]
  },
  {
   "cell_type": "code",
   "execution_count": 1,
   "id": "8cf9da15",
   "metadata": {},
   "outputs": [],
   "source": [
    "import numpy as np\n",
    "import matplotlib.pyplot as plt"
   ]
  },
  {
   "cell_type": "markdown",
   "id": "8a1d2b5f",
   "metadata": {},
   "source": [
    "As out data set would most likely be imported from CSV or db lets have it in same shape. Here column 0 represent size and column 1 represent cost."
   ]
  },
  {
   "cell_type": "code",
   "execution_count": 2,
   "id": "28e6a9d7",
   "metadata": {},
   "outputs": [
    {
     "name": "stdout",
     "output_type": "stream",
     "text": [
      "[[  1. 300.]\n",
      " [  2. 500.]]\n"
     ]
    }
   ],
   "source": [
    "training_set = np.array([[1.0, 300.0],[2.0, 500]])\n",
    "print(training_set)"
   ]
  },
  {
   "cell_type": "markdown",
   "id": "42846a3c",
   "metadata": {},
   "source": [
    "We would use slice function to get x and y part of the training set."
   ]
  },
  {
   "cell_type": "code",
   "execution_count": 3,
   "id": "efcca122",
   "metadata": {},
   "outputs": [
    {
     "name": "stdout",
     "output_type": "stream",
     "text": [
      "[1. 2.]\n",
      "[300. 500.]\n"
     ]
    }
   ],
   "source": [
    "x_train = training_set[0:,0]\n",
    "y_train = training_set[0:,1]\n",
    "print(x_train)\n",
    "print(y_train)"
   ]
  },
  {
   "cell_type": "markdown",
   "id": "b5e1ee08",
   "metadata": {},
   "source": [
    "Lets set some values of w and b. Please note that in real examples values of w and b would be calculated using gradient decent algorightm."
   ]
  },
  {
   "cell_type": "code",
   "execution_count": 39,
   "id": "9ac8de6f",
   "metadata": {},
   "outputs": [],
   "source": [
    "w = 200\n",
    "b = 100"
   ]
  },
  {
   "cell_type": "markdown",
   "id": "1b3eebef",
   "metadata": {},
   "source": [
    "This is our function f called Hypothesis which would give us predicted y value given input x."
   ]
  },
  {
   "cell_type": "code",
   "execution_count": 40,
   "id": "78cb7512",
   "metadata": {},
   "outputs": [],
   "source": [
    "def hypothesis(x):\n",
    "    return w * x + b"
   ]
  },
  {
   "cell_type": "code",
   "execution_count": null,
   "id": "21dfde54",
   "metadata": {},
   "outputs": [],
   "source": [
    "#Helper function which takes array of x and output model output \n",
    "def model_output(xs):\n",
    "    m = xs.size\n",
    "    print(f'm is {m}')\n",
    "    output = np.zeros((m,))\n",
    "    for i in range(m):\n",
    "        output[i] = hypothesis(xs[i])\n",
    "    return output"
   ]
  },
  {
   "cell_type": "code",
   "execution_count": 42,
   "id": "17d53423",
   "metadata": {},
   "outputs": [
    {
     "name": "stdout",
     "output_type": "stream",
     "text": [
      "m is 2\n",
      "[300. 500.]\n"
     ]
    }
   ],
   "source": [
    "model_y = model_output(x_train)\n",
    "print(model_y)"
   ]
  },
  {
   "cell_type": "code",
   "execution_count": 43,
   "id": "e881b480",
   "metadata": {},
   "outputs": [
    {
     "data": {
      "text/plain": [
       "[]"
      ]
     },
     "execution_count": 43,
     "metadata": {},
     "output_type": "execute_result"
    },
    {
     "data": {
      "image/png": "[encoded data removed]",
      "text/plain": [
       "<Figure size 432x288 with 1 Axes>"
      ]
     },
     "metadata": {
      "needs_background": "light"
     },
     "output_type": "display_data"
    }
   ],
   "source": [
    "plt.scatter(x_train, y_train, c=\"r\", label=\"actual data\")\n",
    "plt.plot(x_train,model_y, c=\"b\", label=\"model output\")\n",
    "# Set the title\n",
    "plt.title(\"Housing Prices\")\n",
    "# Set the y-axis label\n",
    "plt.ylabel('Price (in 1000s of dollars)')\n",
    "# Set the x-axis label\n",
    "plt.xlabel('Size (1000 sqft)')\n",
    "plt.legend()\n",
    "plt.plot()"
   ]
  },
  {
   "cell_type": "markdown",
   "id": "59a27679",
   "metadata": {},
   "source": [
    "This completes this exercise where we saw intution behind simple linear regression model."
   ]
  }
 ],
 "metadata": {
  "kernelspec": {
   "display_name": "Python 3 (ipykernel)",
   "language": "python",
   "name": "python3"
  },
  "language_info": {
   "codemirror_mode": {
    "name": "ipython",
    "version": 3
   },
   "file_extension": ".py",
   "mimetype": "text/x-python",
   "name": "python",
   "nbconvert_exporter": "python",
   "pygments_lexer": "ipython3",
   "version": "3.8.9"
  }
 },
 "nbformat": 4,
 "nbformat_minor": 5
}
