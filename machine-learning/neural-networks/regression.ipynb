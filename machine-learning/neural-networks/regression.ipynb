{
 "cells": [
  {
   "cell_type": "markdown",
   "id": "b4892766",
   "metadata": {},
   "source": [
    "# Regression Using Neural Network\n",
    "In the code below we would use single layer and one neuron to implement linear regression. We would take an example where we have one feature called size of house and we would predixt price of the house. "
   ]
  },
  {
   "cell_type": "code",
   "execution_count": 1,
   "id": "7fd945f3",
   "metadata": {},
   "outputs": [],
   "source": [
    "import numpy as np\n",
    "import matplotlib.pyplot as plt\n",
    "import tensorflow as tf\n",
    "from tensorflow.keras.layers import Dense, Input\n",
    "from tensorflow.keras.activations import sigmoid\n",
    "import logging\n",
    "logging.getLogger(\"tensorflow\").setLevel(logging.ERROR)\n",
    "tf.autograph.set_verbosity(0)"
   ]
  },
  {
   "cell_type": "markdown",
   "id": "e3c69b9d",
   "metadata": {},
   "source": [
    "Notice that the features as well as labels are represented in matrix. Feature is m x n matrix where m are number of examples in the training set and n are number of features. As in our case number of features is 1 and examples being 2 we have 2 x 1 matrix.\n",
    "Its intutive that the output or label data would be m x 1 matrix."
   ]
  },
  {
   "cell_type": "code",
   "execution_count": 2,
   "id": "d0007499",
   "metadata": {},
   "outputs": [
    {
     "data": {
      "image/png": "[encoded data removed]",
      "text/plain": [
       "<Figure size 432x288 with 1 Axes>"
      ]
     },
     "metadata": {
      "needs_background": "light"
     },
     "output_type": "display_data"
    }
   ],
   "source": [
    "X_train = np.array([[1.0], [2.0]], dtype=np.float32)           #(size in 1000 square feet)\n",
    "Y_train = np.array([[300.0], [500.0]], dtype=np.float32)       #(price in 1000s of dollars)\n",
    "\n",
    "fig, ax = plt.subplots(1,1)\n",
    "ax.scatter(X_train, Y_train, color=\"r\", marker=\"x\")\n",
    "ax.set_xlabel(\"Size in 1000 Sq Feet\")\n",
    "ax.set_ylabel(\"Price in $1000s\")\n",
    "plt.show()"
   ]
  },
  {
   "cell_type": "markdown",
   "id": "c5cd27d7",
   "metadata": {},
   "source": [
    "Lets create single layer neural network with one neuron (and hence units=1). Remember the activation function - in our case it would be linear as our prediction would be - wx + b."
   ]
  },
  {
   "cell_type": "code",
   "execution_count": 3,
   "id": "835fab3f",
   "metadata": {},
   "outputs": [],
   "source": [
    "linear_layer = tf.keras.layers.Dense(units=1, activation='linear',)"
   ]
  },
  {
   "cell_type": "markdown",
   "id": "ee42aa4a",
   "metadata": {},
   "source": [
    "Initially there are no weights (model parameter in regression term - w and b)"
   ]
  },
  {
   "cell_type": "code",
   "execution_count": 4,
   "id": "688fd69b",
   "metadata": {},
   "outputs": [
    {
     "data": {
      "text/plain": [
       "[]"
      ]
     },
     "execution_count": 4,
     "metadata": {},
     "output_type": "execute_result"
    }
   ],
   "source": [
    "linear_layer.get_weights()"
   ]
  },
  {
   "cell_type": "markdown",
   "id": "eded3fe9",
   "metadata": {},
   "source": [
    "Here we are trying to get prediction for one sample input (ideally this should be compile step) - notice that the input is again a matrix. As we have single feature the matrix is 1 x1 but in case on N features it would be n x 1."
   ]
  },
  {
   "cell_type": "code",
   "execution_count": 17,
   "id": "52d67b45",
   "metadata": {},
   "outputs": [
    {
     "name": "stdout",
     "output_type": "stream",
     "text": [
      "tf.Tensor([[300.]], shape=(1, 1), dtype=float32)\n"
     ]
    }
   ],
   "source": [
    "a1 = linear_layer(X_train[0].reshape(1,1))\n",
    "print(a1)"
   ]
  },
  {
   "cell_type": "markdown",
   "id": "8823eaf9",
   "metadata": {},
   "source": [
    "Now we can set some weights for the layer. Note that these weights would be set using training the model which we would see later."
   ]
  },
  {
   "cell_type": "code",
   "execution_count": 6,
   "id": "a439c66f",
   "metadata": {},
   "outputs": [
    {
     "data": {
      "text/plain": [
       "[array([[200.]], dtype=float32), array([100.], dtype=float32)]"
      ]
     },
     "execution_count": 6,
     "metadata": {},
     "output_type": "execute_result"
    }
   ],
   "source": [
    "w = np.array([[200]])\n",
    "b = np.array([100])\n",
    "linear_layer.set_weights([w,b])\n",
    "linear_layer.get_weights()"
   ]
  },
  {
   "cell_type": "code",
   "execution_count": 7,
   "id": "7e615987",
   "metadata": {},
   "outputs": [
    {
     "name": "stdout",
     "output_type": "stream",
     "text": [
      "tf.Tensor([[300.]], shape=(1, 1), dtype=float32)\n",
      "[300.]\n"
     ]
    }
   ],
   "source": [
    "a1 = linear_layer(X_train[0].reshape(1,1))\n",
    "print(a1)\n",
    "\n",
    "a11 = np.dot(X_train[0], w[0]) + b\n",
    "print(a11)"
   ]
  },
  {
   "cell_type": "code",
   "execution_count": 8,
   "id": "57281471",
   "metadata": {},
   "outputs": [
    {
     "name": "stdout",
     "output_type": "stream",
     "text": [
      "tf.Tensor(\n",
      "[[300.]\n",
      " [500.]], shape=(2, 1), dtype=float32)\n",
      "[[300.]\n",
      " [500.]]\n"
     ]
    }
   ],
   "source": [
    "prediction_tf = linear_layer(X_train)\n",
    "prediction_np = np.dot( X_train, w) + b\n",
    "\n",
    "print(prediction_tf)\n",
    "print(prediction_np)"
   ]
  },
  {
   "cell_type": "code",
   "execution_count": 16,
   "id": "3fcd7122",
   "metadata": {},
   "outputs": [
    {
     "data": {
      "text/plain": [
       "<matplotlib.collections.PathCollection at 0x163a28ca0>"
      ]
     },
     "execution_count": 16,
     "metadata": {},
     "output_type": "execute_result"
    },
    {
     "data": {
      "image/png": "[encoded data removed]",
      "text/plain": [
       "<Figure size 864x432 with 2 Axes>"
      ]
     },
     "metadata": {
      "needs_background": "light"
     },
     "output_type": "display_data"
    }
   ],
   "source": [
    "fig, ax = plt.subplots(1,2,figsize=(12, 6))\n",
    "ax[0].plot(X_train, prediction_np, color=\"b\")\n",
    "ax[0].scatter(X_train, Y_train, color=\"r\", marker=\"x\")\n",
    "\n",
    "\n",
    "ax[1].plot(X_train, prediction_tf, color=\"b\")\n",
    "ax[1].scatter(X_train, Y_train, color=\"r\", marker=\"x\")"
   ]
  },
  {
   "cell_type": "code",
   "execution_count": null,
   "id": "a5a1ea24",
   "metadata": {},
   "outputs": [],
   "source": []
  }
 ],
 "metadata": {
  "kernelspec": {
   "display_name": "Python 3 (ipykernel)",
   "language": "python",
   "name": "python3"
  },
  "language_info": {
   "codemirror_mode": {
    "name": "ipython",
    "version": 3
   },
   "file_extension": ".py",
   "mimetype": "text/x-python",
   "name": "python",
   "nbconvert_exporter": "python",
   "pygments_lexer": "ipython3",
   "version": "3.8.9"
  }
 },
 "nbformat": 4,
 "nbformat_minor": 5
}
