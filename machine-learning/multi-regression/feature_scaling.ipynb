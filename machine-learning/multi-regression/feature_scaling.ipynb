{
 "cells": [
  {
   "cell_type": "markdown",
   "id": "3d1af226",
   "metadata": {},
   "source": [
    "# Feature Scaling and Learning Rate"
   ]
  },
  {
   "cell_type": "markdown",
   "id": "52251db3",
   "metadata": {},
   "source": [
    "As we have seen if features have various scales, Gradient descent takes long time to converge. In this example we would use ***Feature Scaling*** and appropriate value for ***Learning Rate*** to make Gradient descent faster and hence training the model faster.\n",
    "We would be reusing some of the code in last exercise - the code is copied here. Better idea would be add these functions to a python module and import here -- TODO"
   ]
  },
  {
   "cell_type": "code",
   "execution_count": 1,
   "id": "8e4cbbb3",
   "metadata": {},
   "outputs": [],
   "source": [
    "import copy, math\n",
    "import numpy as np\n",
    "import matplotlib.pyplot as plt"
   ]
  },
  {
   "cell_type": "code",
   "execution_count": 4,
   "id": "886f7b19",
   "metadata": {},
   "outputs": [],
   "source": [
    "x_train = np.array([[2104, 5, 1, 45], [1416, 3, 2, 40], [852, 2, 1, 35]])\n",
    "y_train = np.array([460, 232, 178])\n",
    "x_features = ['size(sqft)','bedrooms','floors','age']\n",
    "\n",
    "#Here x is the feature vector, w is the parameter vector and b is bias.\n",
    "def predict(x,w,b):\n",
    "    return np.dot(x,w) + b\n",
    "\n",
    "# xs is m training set for x\n",
    "#y is output vector\n",
    "#w is parameter vector and b is bias\n",
    "def compute_cost(xs, y, w, b):\n",
    "    m = xs.shape[0]\n",
    "    cost = 0\n",
    "    for i in range(m):\n",
    "        cost = cost + ( predict(xs[i], w, b) - y[i])**2\n",
    "    return cost / (2 * m)    \n",
    "\n",
    "def gradient(x_train, y_train, w, b):\n",
    "    m,n = x_train.shape # n is number of features.\n",
    "    \n",
    "    w_delta = np.zeros((n,))\n",
    "    b_delta = 0.0\n",
    "    \n",
    "    for i in range(m):\n",
    "        err = predict(x_train[i], w, b) - y_train[i]\n",
    "        b_delta = b_delta + err \n",
    "        for j in range(n):\n",
    "            w_delta[j] = w_delta[j] + err * x_train[i][j]\n",
    "    \n",
    "    return (w_delta/m, b_delta/m)\n",
    "    \n",
    "    \n",
    "def gradient_descent(x_train, y_train, w_in, b_in, a, num_iter):\n",
    "    w = copy.deepcopy(w_in)  #avoid modifying global w within function\n",
    "    b = b_in\n",
    "    j_history = []\n",
    "    \n",
    "    for i in range(num_iter):\n",
    "        w_delta, b_delta = gradient(x_train, y_train, w, b)\n",
    "        w = w - a * w_delta\n",
    "        b = b - a * b_delta\n",
    "        cost = compute_cost(x_train, y_train, w, b)\n",
    "        j_history.append(cost)\n",
    "        \n",
    "        if i % 10 == 0:\n",
    "            print(f\"Iteration {i:4d}: Cost {j_history[-1]:8.2f}   \")\n",
    "    \n",
    "    return (w,b, j_history)"
   ]
  },
  {
   "cell_type": "markdown",
   "id": "53050ace",
   "metadata": {},
   "source": [
    "There are multiple ways for ***Feature Scaling**. The one we would use here is ***Z-Score Normalization***. The way to do this is:\n",
    "To implement z-score normalization, adjust your input values as shown in this formula:\n",
    "$$x^{(i)}_j = \\dfrac{x^{(i)}_j - \\mu_j}{\\sigma_j}$$ \n",
    "where $j$ selects a feature or a column in the $\\mathbf{X}$ matrix. $µ_j$ is the mean of all the values for feature (j) and $\\sigma_j$ is the standard deviation of feature (j).\n",
    "$$\n",
    "\\begin{align}\n",
    "\\mu_j &= \\frac{1}{m} \\sum_{i=0}^{m-1} x^{(i)}_j\\\\\n",
    "\\sigma^2_j &= \\frac{1}{m} \\sum_{i=0}^{m-1} (x^{(i)}_j - \\mu_j)^2\n",
    "\\end{align}\n",
    "$$"
   ]
  },
  {
   "cell_type": "code",
   "execution_count": 3,
   "id": "9dda94bd",
   "metadata": {},
   "outputs": [],
   "source": [
    "# X - 2-D Array - mxn where \n",
    "#m is number of training set and n is number of features.\n",
    "def z_score_normalize(X):\n",
    "    mu = np.mean(x, axis=0)\n",
    "    std = np.std(x, axis=0)\n",
    "    return (x - mu) / std , mu, std"
   ]
  },
  {
   "cell_type": "code",
   "execution_count": 6,
   "id": "7aa20c5d",
   "metadata": {},
   "outputs": [
    {
     "data": {
      "image/png": "[encoded data removed]",
      "text/plain": [
       "<Figure size 864x216 with 2 Axes>"
      ]
     },
     "metadata": {
      "needs_background": "light"
     },
     "output_type": "display_data"
    }
   ],
   "source": [
    "fig,ax=plt.subplots(1, 2, figsize=(12, 3))\n",
    "ax[0].scatter(x_train[:,0], x_train[:,3])\n",
    "ax[0].set_xlabel(x_features[0]); ax[0].set_ylabel(x_features[3]);\n",
    "ax[0].set_title(\"unnormalized\")\n",
    "ax[0].axis('equal')\n",
    "\n",
    "x_norm, mu, std = z_score_normalize(x_train)\n",
    "\n",
    "ax[1].scatter(x_norm[:,0], x_norm[:,3])\n",
    "ax[1].set_xlabel(x_features[0]); ax[0].set_ylabel(x_features[3]);\n",
    "ax[1].set_title(r\"Z-score normalized\")\n",
    "ax[1].axis('equal')\n",
    "plt.tight_layout(rect=[0, 0.03, 1, 0.95])\n",
    "fig.suptitle(\"distribution of features before, during, after normalization\")\n",
    "plt.show()"
   ]
  },
  {
   "cell_type": "code",
   "execution_count": 9,
   "id": "27509c68",
   "metadata": {},
   "outputs": [
    {
     "name": "stdout",
     "output_type": "stream",
     "text": [
      "X_mu = 375.5, \n",
      "X_sigma = 675.195465525848\n",
      "Peak to Peak range by column in Raw        X:[1252    3    1   10]\n",
      "Peak to Peak range by column in Normalized X:[1.85427786e+00 4.44315780e-03 1.48105260e-03 1.48105260e-02]\n"
     ]
    }
   ],
   "source": [
    "# normalize the original features\n",
    "x_norm, x_mu, x_sigma = z_score_normalize(x_train)\n",
    "print(f\"X_mu = {x_mu}, \\nX_sigma = {x_sigma}\")\n",
    "print(f\"Peak to Peak range by column in Raw        X:{np.ptp(x_train,axis=0)}\")   \n",
    "print(f\"Peak to Peak range by column in Normalized X:{np.ptp(x_norm,axis=0)}\")"
   ]
  },
  {
   "cell_type": "code",
   "execution_count": 14,
   "id": "b0d0f606",
   "metadata": {},
   "outputs": [
    {
     "name": "stdout",
     "output_type": "stream",
     "text": [
      "Iteration    0: Cost 14308.30   \n",
      "Iteration   10: Cost   906.44   \n",
      "Iteration   20: Cost   790.55   \n",
      "Iteration   30: Cost   717.17   \n",
      "Iteration   40: Cost   670.70   \n",
      "Iteration   50: Cost   641.26   \n",
      "Iteration   60: Cost   622.62   \n",
      "Iteration   70: Cost   610.81   \n",
      "Iteration   80: Cost   603.33   \n",
      "Iteration   90: Cost   598.60   \n",
      "Iteration  100: Cost   595.60   \n",
      "Iteration  110: Cost   593.70   \n",
      "Iteration  120: Cost   592.49   \n",
      "Iteration  130: Cost   591.73   \n",
      "Iteration  140: Cost   591.25   \n",
      "Iteration  150: Cost   590.94   \n",
      "Iteration  160: Cost   590.75   \n",
      "Iteration  170: Cost   590.63   \n",
      "Iteration  180: Cost   590.55   \n",
      "Iteration  190: Cost   590.50   \n",
      "Iteration  200: Cost   590.47   \n",
      "Iteration  210: Cost   590.44   \n",
      "Iteration  220: Cost   590.43   \n",
      "Iteration  230: Cost   590.42   \n",
      "Iteration  240: Cost   590.42   \n",
      "Iteration  250: Cost   590.41   \n",
      "Iteration  260: Cost   590.41   \n",
      "Iteration  270: Cost   590.41   \n",
      "Iteration  280: Cost   590.41   \n",
      "Iteration  290: Cost   590.41   \n",
      "Iteration  300: Cost   590.41   \n",
      "Iteration  310: Cost   590.40   \n",
      "Iteration  320: Cost   590.40   \n",
      "Iteration  330: Cost   590.40   \n",
      "Iteration  340: Cost   590.40   \n",
      "Iteration  350: Cost   590.40   \n",
      "Iteration  360: Cost   590.40   \n",
      "Iteration  370: Cost   590.40   \n",
      "Iteration  380: Cost   590.40   \n",
      "Iteration  390: Cost   590.40   \n",
      "Iteration  400: Cost   590.40   \n",
      "Iteration  410: Cost   590.40   \n",
      "Iteration  420: Cost   590.40   \n",
      "Iteration  430: Cost   590.40   \n",
      "Iteration  440: Cost   590.40   \n",
      "Iteration  450: Cost   590.39   \n",
      "Iteration  460: Cost   590.39   \n",
      "Iteration  470: Cost   590.39   \n",
      "Iteration  480: Cost   590.39   \n",
      "Iteration  490: Cost   590.39   \n",
      "Iteration  500: Cost   590.39   \n",
      "Iteration  510: Cost   590.39   \n",
      "Iteration  520: Cost   590.39   \n",
      "Iteration  530: Cost   590.39   \n",
      "Iteration  540: Cost   590.39   \n",
      "Iteration  550: Cost   590.39   \n",
      "Iteration  560: Cost   590.39   \n",
      "Iteration  570: Cost   590.39   \n",
      "Iteration  580: Cost   590.39   \n",
      "Iteration  590: Cost   590.39   \n",
      "Iteration  600: Cost   590.38   \n",
      "Iteration  610: Cost   590.38   \n",
      "Iteration  620: Cost   590.38   \n",
      "Iteration  630: Cost   590.38   \n",
      "Iteration  640: Cost   590.38   \n",
      "Iteration  650: Cost   590.38   \n",
      "Iteration  660: Cost   590.38   \n",
      "Iteration  670: Cost   590.38   \n",
      "Iteration  680: Cost   590.38   \n",
      "Iteration  690: Cost   590.38   \n",
      "Iteration  700: Cost   590.38   \n",
      "Iteration  710: Cost   590.38   \n",
      "Iteration  720: Cost   590.38   \n",
      "Iteration  730: Cost   590.38   \n",
      "Iteration  740: Cost   590.38   \n",
      "Iteration  750: Cost   590.37   \n",
      "Iteration  760: Cost   590.37   \n",
      "Iteration  770: Cost   590.37   \n",
      "Iteration  780: Cost   590.37   \n",
      "Iteration  790: Cost   590.37   \n",
      "Iteration  800: Cost   590.37   \n",
      "Iteration  810: Cost   590.37   \n",
      "Iteration  820: Cost   590.37   \n",
      "Iteration  830: Cost   590.37   \n",
      "Iteration  840: Cost   590.37   \n",
      "Iteration  850: Cost   590.37   \n",
      "Iteration  860: Cost   590.37   \n",
      "Iteration  870: Cost   590.37   \n",
      "Iteration  880: Cost   590.37   \n",
      "Iteration  890: Cost   590.37   \n",
      "Iteration  900: Cost   590.36   \n",
      "Iteration  910: Cost   590.36   \n",
      "Iteration  920: Cost   590.36   \n",
      "Iteration  930: Cost   590.36   \n",
      "Iteration  940: Cost   590.36   \n",
      "Iteration  950: Cost   590.36   \n",
      "Iteration  960: Cost   590.36   \n",
      "Iteration  970: Cost   590.36   \n",
      "Iteration  980: Cost   590.36   \n",
      "Iteration  990: Cost   590.36   \n"
     ]
    }
   ],
   "source": [
    "w_init = np.array([ 0.39133535, 18.75376741, -53.36032453, -26.42131618])\n",
    "initial_w = np.zeros_like(w_init)\n",
    "initial_b = 0.\n",
    "# some gradient descent settings\n",
    "iterations = 1000\n",
    "alpha = 1.0e-1\n",
    "# run gradient descent \n",
    "w_final, b_final, j_history = gradient_descent(x_norm, y_train, initial_w, initial_b,alpha, iterations)"
   ]
  },
  {
   "cell_type": "code",
   "execution_count": 15,
   "id": "560f5be2",
   "metadata": {},
   "outputs": [
    {
     "data": {
      "image/png": "[encoded data removed]",
      "text/plain": [
       "<Figure size 864x288 with 2 Axes>"
      ]
     },
     "metadata": {
      "needs_background": "light"
     },
     "output_type": "display_data"
    }
   ],
   "source": [
    "fig, (ax1, ax2) = plt.subplots(1, 2, constrained_layout=True, figsize=(12, 4))\n",
    "ax1.plot(j_history)\n",
    "ax2.plot(100 + np.arange(len(j_history[100:])), j_history[100:])\n",
    "ax1.set_title(\"Cost vs. iteration\");  ax2.set_title(\"Cost vs. iteration (tail)\")\n",
    "ax1.set_ylabel('Cost')             ;  ax2.set_ylabel('Cost') \n",
    "ax1.set_xlabel('iteration step')   ;  ax2.set_xlabel('iteration step') \n",
    "plt.show()"
   ]
  },
  {
   "cell_type": "markdown",
   "id": "6f007662",
   "metadata": {},
   "source": [
    "As we can see the gradient descent is converging faster after feature scaling and choosing right value of learning rate."
   ]
  },
  {
   "cell_type": "markdown",
   "id": "9eb12cad",
   "metadata": {},
   "source": [
    "Another important point - As we have scaled the features we need to do the same for prediction as well. See the example below for predictions:"
   ]
  },
  {
   "cell_type": "code",
   "execution_count": 16,
   "id": "9a822ad6",
   "metadata": {},
   "outputs": [
    {
     "name": "stdout",
     "output_type": "stream",
     "text": [
      "231.03517740440125\n"
     ]
    }
   ],
   "source": [
    "x_house = np.array([1200, 3, 1, 40])\n",
    "x_house_norm = (x_house - x_mu)/x_sigma\n",
    "\n",
    "y_predict = predict(x_house_norm, w_final, b_final)\n",
    "print(y_predict)"
   ]
  },
  {
   "cell_type": "code",
   "execution_count": null,
   "id": "08dfcc03",
   "metadata": {},
   "outputs": [],
   "source": []
  }
 ],
 "metadata": {
  "kernelspec": {
   "display_name": "Python 3 (ipykernel)",
   "language": "python",
   "name": "python3"
  },
  "language_info": {
   "codemirror_mode": {
    "name": "ipython",
    "version": 3
   },
   "file_extension": ".py",
   "mimetype": "text/x-python",
   "name": "python",
   "nbconvert_exporter": "python",
   "pygments_lexer": "ipython3",
   "version": "3.8.9"
  }
 },
 "nbformat": 4,
 "nbformat_minor": 5
}
