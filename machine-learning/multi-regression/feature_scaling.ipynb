{
 "cells": [
  {
   "cell_type": "markdown",
   "id": "3d1af226",
   "metadata": {},
   "source": [
    "# Feature Scaling and Learning Rate"
   ]
  },
  {
   "cell_type": "markdown",
   "id": "52251db3",
   "metadata": {},
   "source": [
    "As we have seen if features have various scales, Gradient descent takes long time to converge. In this example we would use ***Feature Scaling*** and appropriate value for ***Learning Rate*** to make Gradient descent faster and hence training the model faster.\n",
    "We would be reusing some of the code in last exercise - the code is copied here. Better idea would be add these functions to a python module and import here -- TODO"
   ]
  },
  {
   "cell_type": "code",
   "execution_count": 1,
   "id": "8e4cbbb3",
   "metadata": {},
   "outputs": [],
   "source": [
    "import copy, math\n",
    "import numpy as np\n",
    "from multi_regression import predict, compute_cost, gradient, gradient_descent,z_score_normalize \n",
    "import matplotlib.pyplot as plt"
   ]
  },
  {
   "cell_type": "code",
   "execution_count": 2,
   "id": "886f7b19",
   "metadata": {},
   "outputs": [],
   "source": [
    "x_train = np.array([[2104, 5, 1, 45], [1416, 3, 2, 40], [852, 2, 1, 35]])\n",
    "y_train = np.array([460, 232, 178])\n",
    "x_features = ['size(sqft)','bedrooms','floors','age']\n",
    "\n"
   ]
  },
  {
   "cell_type": "markdown",
   "id": "53050ace",
   "metadata": {},
   "source": [
    "There are multiple ways for ***Feature Scaling**. The one we would use here is ***Z-Score Normalization***. The way to do this is:\n",
    "To implement z-score normalization, adjust your input values as shown in this formula:\n",
    "$$x^{(i)}_j = \\dfrac{x^{(i)}_j - \\mu_j}{\\sigma_j}$$ \n",
    "where $j$ selects a feature or a column in the $\\mathbf{X}$ matrix. $µ_j$ is the mean of all the values for feature (j) and $\\sigma_j$ is the standard deviation of feature (j).\n",
    "$$\n",
    "\\begin{align}\n",
    "\\mu_j &= \\frac{1}{m} \\sum_{i=0}^{m-1} x^{(i)}_j\\\\\n",
    "\\sigma^2_j &= \\frac{1}{m} \\sum_{i=0}^{m-1} (x^{(i)}_j - \\mu_j)^2\n",
    "\\end{align}\n",
    "$$"
   ]
  },
  {
   "cell_type": "code",
   "execution_count": 3,
   "id": "7aa20c5d",
   "metadata": {},
   "outputs": [
    {
     "data": {
      "image/png": "[encoded data removed]",
      "text/plain": [
       "<Figure size 864x216 with 2 Axes>"
      ]
     },
     "metadata": {
      "needs_background": "light"
     },
     "output_type": "display_data"
    }
   ],
   "source": [
    "fig,ax=plt.subplots(1, 2, figsize=(12, 3))\n",
    "ax[0].scatter(x_train[:,0], x_train[:,3])\n",
    "ax[0].set_xlabel(x_features[0]); ax[0].set_ylabel(x_features[3]);\n",
    "ax[0].set_title(\"unnormalized\")\n",
    "ax[0].axis('equal')\n",
    "\n",
    "x_norm, mu, std = z_score_normalize(x_train)\n",
    "\n",
    "ax[1].scatter(x_norm[:,0], x_norm[:,3])\n",
    "ax[1].set_xlabel(x_features[0]); ax[0].set_ylabel(x_features[3]);\n",
    "ax[1].set_title(r\"Z-score normalized\")\n",
    "ax[1].axis('equal')\n",
    "plt.tight_layout(rect=[0, 0.03, 1, 0.95])\n",
    "fig.suptitle(\"distribution of features before, during, after normalization\")\n",
    "plt.show()"
   ]
  },
  {
   "cell_type": "code",
   "execution_count": 4,
   "id": "27509c68",
   "metadata": {},
   "outputs": [
    {
     "name": "stdout",
     "output_type": "stream",
     "text": [
      "X_mu = [1.45733333e+03 3.33333333e+00 1.33333333e+00 4.00000000e+01], \n",
      "X_sigma = [5.11961804e+02 1.24721913e+00 4.71404521e-01 4.08248290e+00]\n",
      "Peak to Peak range by column in Raw        X:[1252    3    1   10]\n",
      "Peak to Peak range by column in Normalized X:[2.44549494 2.40535118 2.12132034 2.44948974]\n"
     ]
    }
   ],
   "source": [
    "# normalize the original features\n",
    "x_norm, x_mu, x_sigma = z_score_normalize(x_train)\n",
    "print(f\"X_mu = {x_mu}, \\nX_sigma = {x_sigma}\")\n",
    "print(f\"Peak to Peak range by column in Raw        X:{np.ptp(x_train,axis=0)}\")   \n",
    "print(f\"Peak to Peak range by column in Normalized X:{np.ptp(x_norm,axis=0)}\")"
   ]
  },
  {
   "cell_type": "code",
   "execution_count": 5,
   "id": "b0d0f606",
   "metadata": {},
   "outputs": [
    {
     "name": "stdout",
     "output_type": "stream",
     "text": [
      "Iteration    0: Cost 48254.77   \n",
      "Iteration   10: Cost 37638.21   \n",
      "Iteration   20: Cost 29787.62   \n",
      "Iteration   30: Cost 23820.27   \n",
      "Iteration   40: Cost 19186.73   \n",
      "Iteration   50: Cost 15531.61   \n",
      "Iteration   60: Cost 12615.45   \n",
      "Iteration   70: Cost 10270.30   \n",
      "Iteration   80: Cost  8373.97   \n",
      "Iteration   90: Cost  6834.84   \n",
      "Iteration  100: Cost  5582.45   \n",
      "Iteration  110: Cost  4561.65   \n",
      "Iteration  120: Cost  3728.65   \n",
      "Iteration  130: Cost  3048.40   \n",
      "Iteration  140: Cost  2492.59   \n",
      "Iteration  150: Cost  2038.30   \n",
      "Iteration  160: Cost  1666.92   \n",
      "Iteration  170: Cost  1363.25   \n",
      "Iteration  180: Cost  1114.94   \n",
      "Iteration  190: Cost   911.87   \n",
      "Iteration  200: Cost   745.80   \n",
      "Iteration  210: Cost   609.97   \n",
      "Iteration  220: Cost   498.89   \n",
      "Iteration  230: Cost   408.04   \n",
      "Iteration  240: Cost   333.73   \n",
      "Iteration  250: Cost   272.96   \n",
      "Iteration  260: Cost   223.25   \n",
      "Iteration  270: Cost   182.59   \n",
      "Iteration  280: Cost   149.34   \n",
      "Iteration  290: Cost   122.15   \n",
      "Iteration  300: Cost    99.90   \n",
      "Iteration  310: Cost    81.71   \n",
      "Iteration  320: Cost    66.83   \n",
      "Iteration  330: Cost    54.66   \n",
      "Iteration  340: Cost    44.71   \n",
      "Iteration  350: Cost    36.57   \n",
      "Iteration  360: Cost    29.91   \n",
      "Iteration  370: Cost    24.46   \n",
      "Iteration  380: Cost    20.01   \n",
      "Iteration  390: Cost    16.36   \n",
      "Iteration  400: Cost    13.38   \n",
      "Iteration  410: Cost    10.95   \n",
      "Iteration  420: Cost     8.95   \n",
      "Iteration  430: Cost     7.32   \n",
      "Iteration  440: Cost     5.99   \n",
      "Iteration  450: Cost     4.90   \n",
      "Iteration  460: Cost     4.01   \n",
      "Iteration  470: Cost     3.28   \n",
      "Iteration  480: Cost     2.68   \n",
      "Iteration  490: Cost     2.19   \n",
      "Iteration  500: Cost     1.79   \n",
      "Iteration  510: Cost     1.47   \n",
      "Iteration  520: Cost     1.20   \n",
      "Iteration  530: Cost     0.98   \n",
      "Iteration  540: Cost     0.80   \n",
      "Iteration  550: Cost     0.66   \n",
      "Iteration  560: Cost     0.54   \n",
      "Iteration  570: Cost     0.44   \n",
      "Iteration  580: Cost     0.36   \n",
      "Iteration  590: Cost     0.29   \n",
      "Iteration  600: Cost     0.24   \n",
      "Iteration  610: Cost     0.20   \n",
      "Iteration  620: Cost     0.16   \n",
      "Iteration  630: Cost     0.13   \n",
      "Iteration  640: Cost     0.11   \n",
      "Iteration  650: Cost     0.09   \n",
      "Iteration  660: Cost     0.07   \n",
      "Iteration  670: Cost     0.06   \n",
      "Iteration  680: Cost     0.05   \n",
      "Iteration  690: Cost     0.04   \n",
      "Iteration  700: Cost     0.03   \n",
      "Iteration  710: Cost     0.03   \n",
      "Iteration  720: Cost     0.02   \n",
      "Iteration  730: Cost     0.02   \n",
      "Iteration  740: Cost     0.01   \n",
      "Iteration  750: Cost     0.01   \n",
      "Iteration  760: Cost     0.01   \n",
      "Iteration  770: Cost     0.01   \n",
      "Iteration  780: Cost     0.01   \n",
      "Iteration  790: Cost     0.01   \n",
      "Iteration  800: Cost     0.00   \n",
      "Iteration  810: Cost     0.00   \n",
      "Iteration  820: Cost     0.00   \n",
      "Iteration  830: Cost     0.00   \n",
      "Iteration  840: Cost     0.00   \n",
      "Iteration  850: Cost     0.00   \n",
      "Iteration  860: Cost     0.00   \n",
      "Iteration  870: Cost     0.00   \n",
      "Iteration  880: Cost     0.00   \n",
      "Iteration  890: Cost     0.00   \n",
      "Iteration  900: Cost     0.00   \n",
      "Iteration  910: Cost     0.00   \n",
      "Iteration  920: Cost     0.00   \n",
      "Iteration  930: Cost     0.00   \n",
      "Iteration  940: Cost     0.00   \n",
      "Iteration  950: Cost     0.00   \n",
      "Iteration  960: Cost     0.00   \n",
      "Iteration  970: Cost     0.00   \n",
      "Iteration  980: Cost     0.00   \n",
      "Iteration  990: Cost     0.00   \n"
     ]
    }
   ],
   "source": [
    "w_init = np.array([ 0.39133535, 18.75376741, -53.36032453, -26.42131618])\n",
    "initial_w = np.zeros_like(w_init)\n",
    "initial_b = 0.\n",
    "# some gradient descent settings\n",
    "iterations = 1000\n",
    "alpha = 1.0e-2\n",
    "# run gradient descent \n",
    "w_final, b_final, j_history = gradient_descent(x_norm, y_train, initial_w, initial_b,alpha, iterations)"
   ]
  },
  {
   "cell_type": "code",
   "execution_count": 8,
   "id": "54eb8e5a",
   "metadata": {},
   "outputs": [
    {
     "name": "stdout",
     "output_type": "stream",
     "text": [
      "[ 38.05168398  41.54320558 -30.98791712  36.34190238]\n",
      "289.987480338251\n"
     ]
    }
   ],
   "source": [
    "print(w_final)\n",
    "print(b_final)"
   ]
  },
  {
   "cell_type": "code",
   "execution_count": 6,
   "id": "560f5be2",
   "metadata": {},
   "outputs": [
    {
     "data": {
      "image/png": "[encoded data removed]",
      "text/plain": [
       "<Figure size 864x288 with 2 Axes>"
      ]
     },
     "metadata": {
      "needs_background": "light"
     },
     "output_type": "display_data"
    }
   ],
   "source": [
    "fig, (ax1, ax2) = plt.subplots(1, 2, constrained_layout=True, figsize=(12, 4))\n",
    "ax1.plot(j_history)\n",
    "ax2.plot(100 + np.arange(len(j_history[100:])), j_history[100:])\n",
    "ax1.set_title(\"Cost vs. iteration\");  ax2.set_title(\"Cost vs. iteration (tail)\")\n",
    "ax1.set_ylabel('Cost')             ;  ax2.set_ylabel('Cost') \n",
    "ax1.set_xlabel('iteration step')   ;  ax2.set_xlabel('iteration step') \n",
    "plt.show()"
   ]
  },
  {
   "cell_type": "markdown",
   "id": "6f007662",
   "metadata": {},
   "source": [
    "As we can see the gradient descent is converging faster after feature scaling and choosing right value of learning rate."
   ]
  },
  {
   "cell_type": "markdown",
   "id": "9eb12cad",
   "metadata": {},
   "source": [
    "Another important point - As we have scaled the features we need to do the same for prediction as well. See the example below for predictions:"
   ]
  },
  {
   "cell_type": "code",
   "execution_count": 7,
   "id": "9a822ad6",
   "metadata": {},
   "outputs": [
    {
     "name": "stdout",
     "output_type": "stream",
     "text": [
      "281.66999618210247\n"
     ]
    }
   ],
   "source": [
    "x_house = np.array([1200, 3, 1, 40])\n",
    "x_house_norm = (x_house - x_mu)/x_sigma\n",
    "\n",
    "y_predict = predict(x_house_norm, w_final, b_final)\n",
    "print(y_predict)"
   ]
  },
  {
   "cell_type": "code",
   "execution_count": null,
   "id": "08dfcc03",
   "metadata": {},
   "outputs": [],
   "source": []
  }
 ],
 "metadata": {
  "kernelspec": {
   "display_name": "Python 3 (ipykernel)",
   "language": "python",
   "name": "python3"
  },
  "language_info": {
   "codemirror_mode": {
    "name": "ipython",
    "version": 3
   },
   "file_extension": ".py",
   "mimetype": "text/x-python",
   "name": "python",
   "nbconvert_exporter": "python",
   "pygments_lexer": "ipython3",
   "version": "3.8.9"
  }
 },
 "nbformat": 4,
 "nbformat_minor": 5
}
