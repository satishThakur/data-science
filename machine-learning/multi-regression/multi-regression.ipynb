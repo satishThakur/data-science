{
 "cells": [
  {
   "cell_type": "markdown",
   "id": "af981b3e",
   "metadata": {},
   "source": [
    "# Multiple Regression Model"
   ]
  },
  {
   "cell_type": "markdown",
   "id": "1e84c18b",
   "metadata": {},
   "source": [
    "### Approach\n",
    "* Write the function which gives us predicted value y hat. \n",
    "* Write a function to compute the cost.\n",
    "* Write a function to get delta gradient.\n",
    "* Implement gradient descend from above. "
   ]
  },
  {
   "cell_type": "code",
   "execution_count": 1,
   "id": "e9388091",
   "metadata": {},
   "outputs": [],
   "source": [
    "import copy, math\n",
    "import numpy as np\n",
    "import matplotlib.pyplot as plt"
   ]
  },
  {
   "cell_type": "markdown",
   "id": "8bc97737",
   "metadata": {},
   "source": [
    "We will use example of housing price prediction. The training dataset contains three examples with four features (size, bedrooms, floors and, age) shown in the table below.\n",
    "\n",
    "| Size (sqft) | Number of Bedrooms  | Number of floors | Age of  Home | Price (1000s dollars)  |   \n",
    "| ----------------| ------------------- |----------------- |--------------|-------------- |  \n",
    "| 2104            | 5                   | 1                | 45           | 460           |  \n",
    "| 1416            | 3                   | 2                | 40           | 232           |  \n",
    "| 852             | 2                   | 1                | 35           | 178           |  \n",
    "\n",
    "You will build a linear regression model using these values so you can then predict the price for other houses. For example, a house with 1200 sqft, 3 bedrooms, 1 floor, 40 years old.  \n"
   ]
  },
  {
   "cell_type": "code",
   "execution_count": 2,
   "id": "4a111ba9",
   "metadata": {},
   "outputs": [
    {
     "name": "stdout",
     "output_type": "stream",
     "text": [
      "[[2104    5    1   45]\n",
      " [1416    3    2   40]\n",
      " [ 852    2    1   35]]\n",
      "[460 232 178]\n"
     ]
    }
   ],
   "source": [
    "x_train = np.array([[2104, 5, 1, 45], [1416, 3, 2, 40], [852, 2, 1, 35]])\n",
    "y_train = np.array([460, 232, 178])\n",
    "print(x_train)\n",
    "print(y_train)"
   ]
  },
  {
   "cell_type": "code",
   "execution_count": 3,
   "id": "d194558e",
   "metadata": {},
   "outputs": [],
   "source": [
    "#Here x is the feature vector, w is the parameter vector and b is bias.\n",
    "def predict(x,w,b):\n",
    "    return np.dot(x,w) + b"
   ]
  },
  {
   "cell_type": "code",
   "execution_count": 4,
   "id": "7be57c39",
   "metadata": {},
   "outputs": [
    {
     "name": "stdout",
     "output_type": "stream",
     "text": [
      "459.9999976194083\n"
     ]
    }
   ],
   "source": [
    "b_init = 785.1811367994083\n",
    "w_init = np.array([ 0.39133535, 18.75376741, -53.36032453, -26.42131618])\n",
    "print(predict(x_train[0], w_init, b_init))"
   ]
  },
  {
   "cell_type": "code",
   "execution_count": 5,
   "id": "6f9ba0a7",
   "metadata": {},
   "outputs": [],
   "source": [
    "# xs is m training set for x\n",
    "#y is output vector\n",
    "#w is parameter vector and b is bias\n",
    "def compute_cost(xs, y, w, b):\n",
    "    m = xs.shape[0]\n",
    "    cost = 0\n",
    "    for i in range(m):\n",
    "        cost = cost + ( predict(xs[i], w, b) - y[i])**2\n",
    "    return cost / (2 * m)    \n",
    "    "
   ]
  },
  {
   "cell_type": "code",
   "execution_count": 6,
   "id": "e46c8371",
   "metadata": {},
   "outputs": [
    {
     "name": "stdout",
     "output_type": "stream",
     "text": [
      "Cost at optimal w : 1.5578904428966628e-12\n"
     ]
    }
   ],
   "source": [
    "cost = compute_cost(x_train, y_train, w_init, b_init)\n",
    "print(f'Cost at optimal w : {cost}')"
   ]
  },
  {
   "cell_type": "markdown",
   "id": "7945cb21",
   "metadata": {},
   "source": [
    "<a name=\"toc_15456_5\"></a>\n",
    "# 5 Gradient Descent With Multiple Variables\n",
    "Gradient descent for multiple variables:\n",
    "\n",
    "$$\\begin{align*} \\text{repeat}&\\text{ until convergence:} \\; \\lbrace \\newline\\;\n",
    "& w_j = w_j -  \\alpha \\frac{\\partial J(\\mathbf{w},b)}{\\partial w_j} \\tag{5}  \\; & \\text{for j = 0..n-1}\\newline\n",
    "&b\\ \\ = b -  \\alpha \\frac{\\partial J(\\mathbf{w},b)}{\\partial b}  \\newline \\rbrace\n",
    "\\end{align*}$$\n",
    "\n",
    "where, n is the number of features, parameters $w_j$,  $b$, are updated simultaneously and where  \n",
    "\n",
    "$$\n",
    "\\begin{align}\n",
    "\\frac{\\partial J(\\mathbf{w},b)}{\\partial w_j}  &= \\frac{1}{m} \\sum\\limits_{i = 0}^{m-1} (f_{\\mathbf{w},b}(\\mathbf{x}^{(i)}) - y^{(i)})x_{j}^{(i)} \\tag{6}  \\\\\n",
    "\\frac{\\partial J(\\mathbf{w},b)}{\\partial b}  &= \\frac{1}{m} \\sum\\limits_{i = 0}^{m-1} (f_{\\mathbf{w},b}(\\mathbf{x}^{(i)}) - y^{(i)}) \\tag{7}\n",
    "\\end{align}\n",
    "$$\n",
    "* m is the number of training examples in the data set\n",
    "\n",
    "    \n",
    "*  $f_{\\mathbf{w},b}(\\mathbf{x}^{(i)})$ is the model's prediction, while $y^{(i)}$ is the target value\n"
   ]
  },
  {
   "cell_type": "code",
   "execution_count": 7,
   "id": "478f6378",
   "metadata": {},
   "outputs": [],
   "source": [
    "def gradient(x_train, y_train, w, b):\n",
    "    m,n = x_train.shape # n is number of features.\n",
    "    \n",
    "    w_delta = np.zeros((n,))\n",
    "    b_delta = 0.0\n",
    "    \n",
    "    for i in range(m):\n",
    "        err = predict(x_train[i], w, b) - y_train[i]\n",
    "        b_delta = b_delta + err \n",
    "        for j in range(n):\n",
    "            w_delta[j] = w_delta[j] + err * x_train[i][j]\n",
    "    \n",
    "    return (w_delta/m, b_delta/m)\n",
    "    \n",
    "    "
   ]
  },
  {
   "cell_type": "code",
   "execution_count": 8,
   "id": "cd1e63fa",
   "metadata": {},
   "outputs": [
    {
     "name": "stdout",
     "output_type": "stream",
     "text": [
      "dj_db at initial w,b: -1.6739251501955248e-06\n",
      "dj_dw at initial w,b: \n",
      " [-2.72623577e-03 -6.27197263e-06 -2.21745578e-06 -6.92403391e-05]\n"
     ]
    }
   ],
   "source": [
    "tmp_dj_dw, tmp_dj_db  = gradient(x_train, y_train, w_init, b_init)\n",
    "print(f'dj_db at initial w,b: {tmp_dj_db}')\n",
    "print(f'dj_dw at initial w,b: \\n {tmp_dj_dw}')"
   ]
  },
  {
   "cell_type": "code",
   "execution_count": 12,
   "id": "d53283cc",
   "metadata": {},
   "outputs": [],
   "source": [
    "def gradient_descent(x_train, y_train, w_in, b_in, a, num_iter):\n",
    "    w = copy.deepcopy(w_in)  #avoid modifying global w within function\n",
    "    b = b_in\n",
    "    j_history = []\n",
    "    \n",
    "    for i in range(num_iter):\n",
    "        w_delta, b_delta = gradient(x_train, y_train, w, b)\n",
    "        w = w - a * w_delta\n",
    "        b = b - a * b_delta\n",
    "        cost = compute_cost(x_train, y_train, w, b)\n",
    "        j_history.append(cost)\n",
    "        \n",
    "        if i % 10 == 0:\n",
    "            print(f\"Iteration {i:4d}: Cost {j_history[-1]:8.2f}   \")\n",
    "    \n",
    "    return (w,b, j_history)"
   ]
  },
  {
   "cell_type": "code",
   "execution_count": 13,
   "id": "87cba41b",
   "metadata": {},
   "outputs": [
    {
     "name": "stdout",
     "output_type": "stream",
     "text": [
      "Iteration    0: Cost  2529.46   \n",
      "Iteration   10: Cost   696.96   \n",
      "Iteration   20: Cost   696.85   \n",
      "Iteration   30: Cost   696.74   \n",
      "Iteration   40: Cost   696.64   \n",
      "Iteration   50: Cost   696.53   \n",
      "Iteration   60: Cost   696.42   \n",
      "Iteration   70: Cost   696.31   \n",
      "Iteration   80: Cost   696.21   \n",
      "Iteration   90: Cost   696.10   \n",
      "Iteration  100: Cost   695.99   \n",
      "Iteration  110: Cost   695.88   \n",
      "Iteration  120: Cost   695.78   \n",
      "Iteration  130: Cost   695.67   \n",
      "Iteration  140: Cost   695.56   \n",
      "Iteration  150: Cost   695.45   \n",
      "Iteration  160: Cost   695.35   \n",
      "Iteration  170: Cost   695.24   \n",
      "Iteration  180: Cost   695.13   \n",
      "Iteration  190: Cost   695.03   \n",
      "Iteration  200: Cost   694.92   \n",
      "Iteration  210: Cost   694.81   \n",
      "Iteration  220: Cost   694.71   \n",
      "Iteration  230: Cost   694.60   \n",
      "Iteration  240: Cost   694.50   \n",
      "Iteration  250: Cost   694.39   \n",
      "Iteration  260: Cost   694.28   \n",
      "Iteration  270: Cost   694.18   \n",
      "Iteration  280: Cost   694.07   \n",
      "Iteration  290: Cost   693.97   \n",
      "Iteration  300: Cost   693.86   \n",
      "Iteration  310: Cost   693.75   \n",
      "Iteration  320: Cost   693.65   \n",
      "Iteration  330: Cost   693.54   \n",
      "Iteration  340: Cost   693.44   \n",
      "Iteration  350: Cost   693.33   \n",
      "Iteration  360: Cost   693.23   \n",
      "Iteration  370: Cost   693.12   \n",
      "Iteration  380: Cost   693.02   \n",
      "Iteration  390: Cost   692.91   \n",
      "Iteration  400: Cost   692.81   \n",
      "Iteration  410: Cost   692.70   \n",
      "Iteration  420: Cost   692.60   \n",
      "Iteration  430: Cost   692.50   \n",
      "Iteration  440: Cost   692.39   \n",
      "Iteration  450: Cost   692.29   \n",
      "Iteration  460: Cost   692.18   \n",
      "Iteration  470: Cost   692.08   \n",
      "Iteration  480: Cost   691.98   \n",
      "Iteration  490: Cost   691.87   \n",
      "Iteration  500: Cost   691.77   \n",
      "Iteration  510: Cost   691.66   \n",
      "Iteration  520: Cost   691.56   \n",
      "Iteration  530: Cost   691.46   \n",
      "Iteration  540: Cost   691.35   \n",
      "Iteration  550: Cost   691.25   \n",
      "Iteration  560: Cost   691.15   \n",
      "Iteration  570: Cost   691.04   \n",
      "Iteration  580: Cost   690.94   \n",
      "Iteration  590: Cost   690.84   \n",
      "Iteration  600: Cost   690.73   \n",
      "Iteration  610: Cost   690.63   \n",
      "Iteration  620: Cost   690.53   \n",
      "Iteration  630: Cost   690.43   \n",
      "Iteration  640: Cost   690.32   \n",
      "Iteration  650: Cost   690.22   \n",
      "Iteration  660: Cost   690.12   \n",
      "Iteration  670: Cost   690.02   \n",
      "Iteration  680: Cost   689.92   \n",
      "Iteration  690: Cost   689.81   \n",
      "Iteration  700: Cost   689.71   \n",
      "Iteration  710: Cost   689.61   \n",
      "Iteration  720: Cost   689.51   \n",
      "Iteration  730: Cost   689.41   \n",
      "Iteration  740: Cost   689.30   \n",
      "Iteration  750: Cost   689.20   \n",
      "Iteration  760: Cost   689.10   \n",
      "Iteration  770: Cost   689.00   \n",
      "Iteration  780: Cost   688.90   \n",
      "Iteration  790: Cost   688.80   \n",
      "Iteration  800: Cost   688.70   \n",
      "Iteration  810: Cost   688.60   \n",
      "Iteration  820: Cost   688.49   \n",
      "Iteration  830: Cost   688.39   \n",
      "Iteration  840: Cost   688.29   \n",
      "Iteration  850: Cost   688.19   \n",
      "Iteration  860: Cost   688.09   \n",
      "Iteration  870: Cost   687.99   \n",
      "Iteration  880: Cost   687.89   \n",
      "Iteration  890: Cost   687.79   \n",
      "Iteration  900: Cost   687.69   \n",
      "Iteration  910: Cost   687.59   \n",
      "Iteration  920: Cost   687.49   \n",
      "Iteration  930: Cost   687.39   \n",
      "Iteration  940: Cost   687.29   \n",
      "Iteration  950: Cost   687.19   \n",
      "Iteration  960: Cost   687.09   \n",
      "Iteration  970: Cost   686.99   \n",
      "Iteration  980: Cost   686.89   \n",
      "Iteration  990: Cost   686.79   \n",
      "b,w found by gradient descent: -0.00,[ 0.20396569  0.00374919 -0.0112487  -0.0658614 ] \n",
      "prediction: 426.19, target value: 460\n",
      "prediction: 286.17, target value: 232\n",
      "prediction: 171.47, target value: 178\n"
     ]
    }
   ],
   "source": [
    "# initialize parameters\n",
    "initial_w = np.zeros_like(w_init)\n",
    "initial_b = 0.\n",
    "# some gradient descent settings\n",
    "iterations = 1000\n",
    "alpha = 5.0e-7\n",
    "# run gradient descent \n",
    "w_final, b_final, j_history = gradient_descent(x_train, y_train, initial_w, initial_b,alpha, iterations)\n",
    "print(f\"b,w found by gradient descent: {b_final:0.2f},{w_final} \")\n",
    "m,_ = x_train.shape\n",
    "for i in range(m):\n",
    "    print(f\"prediction: {np.dot(x_train[i], w_final) + b_final:0.2f}, target value: {y_train[i]}\")"
   ]
  },
  {
   "cell_type": "code",
   "execution_count": 11,
   "id": "6ec1dfca",
   "metadata": {},
   "outputs": [
    {
     "data": {
      "image/png": "[encoded data removed]",
      "text/plain": [
       "<Figure size 864x288 with 2 Axes>"
      ]
     },
     "metadata": {
      "needs_background": "light"
     },
     "output_type": "display_data"
    }
   ],
   "source": [
    "fig, (ax1, ax2) = plt.subplots(1, 2, constrained_layout=True, figsize=(12, 4))\n",
    "ax1.plot(j_history)\n",
    "ax2.plot(100 + np.arange(len(j_history[100:])), j_history[100:])\n",
    "ax1.set_title(\"Cost vs. iteration\");  ax2.set_title(\"Cost vs. iteration (tail)\")\n",
    "ax1.set_ylabel('Cost')             ;  ax2.set_ylabel('Cost') \n",
    "ax1.set_xlabel('iteration step')   ;  ax2.set_xlabel('iteration step') \n",
    "plt.show()"
   ]
  },
  {
   "cell_type": "markdown",
   "id": "259347f0",
   "metadata": {},
   "source": [
    "As we can see above the Cost is still decreasing and hence not converged. In next exercise we would see how to fix it by having right values for alpha (learning rate). "
   ]
  }
 ],
 "metadata": {
  "kernelspec": {
   "display_name": "Python 3 (ipykernel)",
   "language": "python",
   "name": "python3"
  },
  "language_info": {
   "codemirror_mode": {
    "name": "ipython",
    "version": 3
   },
   "file_extension": ".py",
   "mimetype": "text/x-python",
   "name": "python",
   "nbconvert_exporter": "python",
   "pygments_lexer": "ipython3",
   "version": "3.8.9"
  }
 },
 "nbformat": 4,
 "nbformat_minor": 5
}
