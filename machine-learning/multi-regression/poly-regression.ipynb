{
 "cells": [
  {
   "cell_type": "markdown",
   "id": "547d79fe",
   "metadata": {},
   "source": [
    "# Feature Engineering & Polynomial Regression"
   ]
  },
  {
   "cell_type": "code",
   "execution_count": 2,
   "id": "2cd2c192",
   "metadata": {},
   "outputs": [],
   "source": [
    "import copy, math\n",
    "import numpy as np\n",
    "import matplotlib.pyplot as plt"
   ]
  },
  {
   "cell_type": "markdown",
   "id": "9d41a295",
   "metadata": {},
   "source": [
    "Lets try an example where the output is square of input. We would try first without feature engineering."
   ]
  },
  {
   "cell_type": "code",
   "execution_count": 36,
   "id": "9a06b5bf",
   "metadata": {},
   "outputs": [],
   "source": [
    "#functoin to predict y from x given parameters w and b\n",
    "def hypothesis(x, w, b):\n",
    "    return w * x + b\n",
    "\n",
    "#calculate cost from current training set.\n",
    "#x and y both are vetors here.\n",
    "def calculate_cost(w, b, x, y):\n",
    "    cost = 0.0\n",
    "    m = x.size\n",
    "    for i in range(m):\n",
    "        y_hat = hypothesis(x[i], w, b)\n",
    "        cost = cost + (y_hat - y[i])**2\n",
    "    return cost/(2*m)    \n",
    "\n",
    "def calculate_gradient(w, b, x, y):\n",
    "    w_grad = 0.0\n",
    "    b_grad = 0.0\n",
    "    m = x.size\n",
    "    for i in range(m):\n",
    "        f_w_b = hypothesis(x[i], w, b)\n",
    "        w_grad = w_grad + (f_w_b - y[i]) * x[i]\n",
    "        b_grad = b_grad + (f_w_b - y[i])\n",
    "    return (w_grad/m, b_grad/m)   \n",
    "\n",
    "def gradient_decent(w, b, alpha, num_iter, x_train, y_train):\n",
    "    cost_history = []\n",
    "    for i in range(num_iter):\n",
    "        (w_delta, b_delta) = calculate_gradient(w,b,x_train,y_train)\n",
    "        w = w - alpha * w_delta\n",
    "        b = b - alpha * b_delta\n",
    "        cost_history.append(calculate_cost(w, b, x_train, y_train))\n",
    "        if i % 100 == 0:\n",
    "            print(f'Iteration {i} - Cost {cost_history[i]}')\n",
    "    \n",
    "    return (w,b, cost_history)\n",
    "\n"
   ]
  },
  {
   "cell_type": "code",
   "execution_count": 34,
   "id": "c6e51d91",
   "metadata": {},
   "outputs": [
    {
     "name": "stdout",
     "output_type": "stream",
     "text": [
      "[ 0  1  2  3  4  5  6  7  8  9 10 11 12 13 14 15 16 17 18 19]\n",
      "[  1   2   5  10  17  26  37  50  65  82 101 122 145 170 197 226 257 290\n",
      " 325 362]\n"
     ]
    }
   ],
   "source": [
    "x = np.arange(0,20,1)\n",
    "print(x)\n",
    "\n",
    "y = 1 + x**2\n",
    "print(y)"
   ]
  },
  {
   "cell_type": "code",
   "execution_count": 37,
   "id": "707e9f70",
   "metadata": {},
   "outputs": [
    {
     "name": "stdout",
     "output_type": "stream",
     "text": [
      "Iteration 0 - Cost 1657.5632937500002\n",
      "Iteration 100 - Cost 694.5491067092513\n",
      "Iteration 200 - Cost 588.4754483004803\n",
      "Iteration 300 - Cost 526.4137606474569\n",
      "Iteration 400 - Cost 490.10264314551796\n",
      "Iteration 500 - Cost 468.8576963175959\n",
      "Iteration 600 - Cost 456.42768047748433\n",
      "Iteration 700 - Cost 449.1551137331723\n",
      "Iteration 800 - Cost 444.9000727315512\n",
      "Iteration 900 - Cost 442.41052886595054\n",
      "18.69806953562155\n",
      "-52.08341025448667\n"
     ]
    }
   ],
   "source": [
    "w,b,j = gradient_decent(0.0, 0.0, 1e-2, 1000, x, y)\n",
    "print(w)\n",
    "print(b)"
   ]
  },
  {
   "cell_type": "code",
   "execution_count": 38,
   "id": "650f6c97",
   "metadata": {},
   "outputs": [
    {
     "name": "stdout",
     "output_type": "stream",
     "text": [
      "[-52.08341025 -33.38534072 -14.68727118   4.01079835  22.70886789\n",
      "  41.40693742  60.10500696  78.80307649  97.50114603 116.19921557\n",
      " 134.8972851  153.59535464 172.29342417 190.99149371 209.68956324\n",
      " 228.38763278 247.08570232 265.78377185 284.48184139 303.17991092]\n"
     ]
    }
   ],
   "source": [
    "predict_x = x * w + b\n",
    "print(predict_x)"
   ]
  },
  {
   "cell_type": "code",
   "execution_count": 44,
   "id": "8604a827",
   "metadata": {},
   "outputs": [
    {
     "data": {
      "image/png": "[encoded data removed]",
      "text/plain": [
       "<Figure size 432x288 with 1 Axes>"
      ]
     },
     "metadata": {
      "needs_background": "light"
     },
     "output_type": "display_data"
    }
   ],
   "source": [
    "plt.scatter(x,y,marker=\"x\",c=\"r\",label=\"actual Values\")\n",
    "plt.plot(x, predict_x, c=\"b\",label=\"predicted\")\n",
    "plt.xlabel(\"X\")\n",
    "plt.ylabel(\"Y\")\n",
    "plt.legend()\n",
    "plt.show()"
   ]
  },
  {
   "cell_type": "code",
   "execution_count": 56,
   "id": "e08095f1",
   "metadata": {},
   "outputs": [],
   "source": [
    "\n",
    "def multi_bulk_predict(x_train, w, b):\n",
    "    predict = []\n",
    "    m = x_train.shape[0]\n",
    "    \n",
    "    for i in range(m):\n",
    "        predict.append(multi_predict(x_train[i],w,b))\n",
    "    return predict    \n",
    "\n",
    "#Here x is the feature vector, w is the parameter vector and b is bias.\n",
    "def multi_predict(x,w,b):\n",
    "    return np.dot(x,w) + b\n",
    "\n",
    "# xs is m training set for x\n",
    "#y is output vector\n",
    "#w is parameter vector and b is bias\n",
    "def multi_compute_cost(xs, y, w, b):\n",
    "    m = xs.shape[0]\n",
    "    cost = 0.0\n",
    "    for i in range(m):\n",
    "        cost = cost + ( multi_predict(xs[i], w, b) - y[i])**2\n",
    "    return cost / (2 * m)    \n",
    "\n",
    "def multi_gradient(x_train, y_train, w, b):\n",
    "    m,n = x_train.shape # n is number of features.\n",
    "    \n",
    "    w_delta = np.zeros((n,))\n",
    "    b_delta = 0.0\n",
    "    \n",
    "    for i in range(m):\n",
    "        err = multi_predict(x_train[i], w, b) - y_train[i]\n",
    "        b_delta = b_delta + err \n",
    "        for j in range(n):\n",
    "            w_delta[j] = w_delta[j] + err * x_train[i][j]\n",
    "    \n",
    "    return (w_delta/m, b_delta/m)\n",
    "    \n",
    "    \n",
    "def multi_gradient_descent(x_train, y_train, w_in, b_in, a, num_iter):\n",
    "    w = copy.deepcopy(w_in)  #avoid modifying global w within function\n",
    "    b = b_in\n",
    "    j_history = []\n",
    "    \n",
    "    for i in range(num_iter):\n",
    "        w_delta, b_delta = multi_gradient(x_train, y_train, w, b)\n",
    "        w = w - a * w_delta\n",
    "        b = b - a * b_delta\n",
    "        cost = multi_compute_cost(x_train, y_train, w, b)\n",
    "        j_history.append(cost)\n",
    "        \n",
    "        if i % 100 == 0:\n",
    "            print(f\"Iteration {i:4d}: Cost {j_history[-1]:8.2f}   \")\n",
    "    \n",
    "    return (w,b, j_history)"
   ]
  },
  {
   "cell_type": "markdown",
   "id": "01f183a7",
   "metadata": {},
   "source": [
    "Feature Engineering - \n",
    "Lets get another feature caled x**2"
   ]
  },
  {
   "cell_type": "code",
   "execution_count": 46,
   "id": "c44c91d4",
   "metadata": {},
   "outputs": [
    {
     "name": "stdout",
     "output_type": "stream",
     "text": [
      "[  0   1   4   9  16  25  36  49  64  81 100 121 144 169 196 225 256 289\n",
      " 324 361]\n"
     ]
    }
   ],
   "source": [
    "x2 = x**2\n",
    "print(x2)"
   ]
  },
  {
   "cell_type": "code",
   "execution_count": 50,
   "id": "74fc3c33",
   "metadata": {},
   "outputs": [
    {
     "name": "stdout",
     "output_type": "stream",
     "text": [
      "[[  0   0]\n",
      " [  1   1]\n",
      " [  2   4]\n",
      " [  3   9]\n",
      " [  4  16]\n",
      " [  5  25]\n",
      " [  6  36]\n",
      " [  7  49]\n",
      " [  8  64]\n",
      " [  9  81]\n",
      " [ 10 100]\n",
      " [ 11 121]\n",
      " [ 12 144]\n",
      " [ 13 169]\n",
      " [ 14 196]\n",
      " [ 15 225]\n",
      " [ 16 256]\n",
      " [ 17 289]\n",
      " [ 18 324]\n",
      " [ 19 361]]\n",
      "[  1   2   5  10  17  26  37  50  65  82 101 122 145 170 197 226 257 290\n",
      " 325 362]\n"
     ]
    }
   ],
   "source": [
    "x_train = np.c_[x, x2]\n",
    "print(x_train)\n",
    "y_train = y\n",
    "print(y_train)"
   ]
  },
  {
   "cell_type": "code",
   "execution_count": 57,
   "id": "417b82de",
   "metadata": {},
   "outputs": [
    {
     "name": "stdout",
     "output_type": "stream",
     "text": [
      "[0. 0.]\n",
      "Iteration    0: Cost 14110.59   \n",
      "Iteration  100: Cost  8013.60   \n",
      "Iteration  200: Cost  4551.06   \n",
      "Iteration  300: Cost  2584.65   \n",
      "Iteration  400: Cost  1467.91   \n",
      "Iteration  500: Cost   833.70   \n",
      "Iteration  600: Cost   473.53   \n",
      "Iteration  700: Cost   268.98   \n",
      "Iteration  800: Cost   152.82   \n",
      "Iteration  900: Cost    86.85   \n",
      "Iteration 1000: Cost    49.38   \n",
      "Iteration 1100: Cost    28.11   \n",
      "Iteration 1200: Cost    16.02   \n",
      "Iteration 1300: Cost     9.16   \n",
      "Iteration 1400: Cost     5.26   \n",
      "Iteration 1500: Cost     3.05   \n",
      "Iteration 1600: Cost     1.79   \n",
      "Iteration 1700: Cost     1.08   \n",
      "Iteration 1800: Cost     0.67   \n",
      "Iteration 1900: Cost     0.44   \n",
      "Iteration 2000: Cost     0.31   \n",
      "Iteration 2100: Cost     0.24   \n",
      "Iteration 2200: Cost     0.20   \n",
      "Iteration 2300: Cost     0.17   \n",
      "Iteration 2400: Cost     0.16   \n",
      "Iteration 2500: Cost     0.15   \n",
      "Iteration 2600: Cost     0.15   \n",
      "Iteration 2700: Cost     0.14   \n",
      "Iteration 2800: Cost     0.14   \n",
      "Iteration 2900: Cost     0.14   \n",
      "Iteration 3000: Cost     0.14   \n",
      "Iteration 3100: Cost     0.14   \n",
      "Iteration 3200: Cost     0.14   \n",
      "Iteration 3300: Cost     0.14   \n",
      "Iteration 3400: Cost     0.14   \n",
      "Iteration 3500: Cost     0.14   \n",
      "Iteration 3600: Cost     0.14   \n",
      "Iteration 3700: Cost     0.14   \n",
      "Iteration 3800: Cost     0.14   \n",
      "Iteration 3900: Cost     0.14   \n",
      "Iteration 4000: Cost     0.14   \n",
      "Iteration 4100: Cost     0.14   \n",
      "Iteration 4200: Cost     0.14   \n",
      "Iteration 4300: Cost     0.14   \n",
      "Iteration 4400: Cost     0.14   \n",
      "Iteration 4500: Cost     0.14   \n",
      "Iteration 4600: Cost     0.14   \n",
      "Iteration 4700: Cost     0.14   \n",
      "Iteration 4800: Cost     0.14   \n",
      "Iteration 4900: Cost     0.14   \n",
      "Iteration 5000: Cost     0.14   \n",
      "Iteration 5100: Cost     0.14   \n",
      "Iteration 5200: Cost     0.14   \n",
      "Iteration 5300: Cost     0.14   \n",
      "Iteration 5400: Cost     0.14   \n",
      "Iteration 5500: Cost     0.14   \n",
      "Iteration 5600: Cost     0.14   \n",
      "Iteration 5700: Cost     0.14   \n",
      "Iteration 5800: Cost     0.14   \n",
      "Iteration 5900: Cost     0.14   \n",
      "Iteration 6000: Cost     0.14   \n",
      "Iteration 6100: Cost     0.14   \n",
      "Iteration 6200: Cost     0.14   \n",
      "Iteration 6300: Cost     0.14   \n",
      "Iteration 6400: Cost     0.14   \n",
      "Iteration 6500: Cost     0.14   \n",
      "Iteration 6600: Cost     0.14   \n",
      "Iteration 6700: Cost     0.14   \n",
      "Iteration 6800: Cost     0.14   \n",
      "Iteration 6900: Cost     0.14   \n",
      "Iteration 7000: Cost     0.14   \n",
      "Iteration 7100: Cost     0.14   \n",
      "Iteration 7200: Cost     0.14   \n",
      "Iteration 7300: Cost     0.14   \n",
      "Iteration 7400: Cost     0.14   \n",
      "Iteration 7500: Cost     0.14   \n",
      "Iteration 7600: Cost     0.14   \n",
      "Iteration 7700: Cost     0.14   \n",
      "Iteration 7800: Cost     0.14   \n",
      "Iteration 7900: Cost     0.14   \n",
      "Iteration 8000: Cost     0.14   \n",
      "Iteration 8100: Cost     0.14   \n",
      "Iteration 8200: Cost     0.14   \n",
      "Iteration 8300: Cost     0.14   \n",
      "Iteration 8400: Cost     0.14   \n",
      "Iteration 8500: Cost     0.14   \n",
      "Iteration 8600: Cost     0.14   \n",
      "Iteration 8700: Cost     0.14   \n",
      "Iteration 8800: Cost     0.14   \n",
      "Iteration 8900: Cost     0.14   \n",
      "Iteration 9000: Cost     0.14   \n",
      "Iteration 9100: Cost     0.14   \n",
      "Iteration 9200: Cost     0.14   \n",
      "Iteration 9300: Cost     0.14   \n",
      "Iteration 9400: Cost     0.14   \n",
      "Iteration 9500: Cost     0.14   \n",
      "Iteration 9600: Cost     0.14   \n",
      "Iteration 9700: Cost     0.14   \n",
      "Iteration 9800: Cost     0.14   \n",
      "Iteration 9900: Cost     0.14   \n"
     ]
    },
    {
     "data": {
      "image/png": "[encoded data removed]",
      "text/plain": [
       "<Figure size 432x288 with 1 Axes>"
      ]
     },
     "metadata": {
      "needs_background": "light"
     },
     "output_type": "display_data"
    }
   ],
   "source": [
    "n = x_train.shape[1]\n",
    "w_in = np.zeros(n)\n",
    "print(w_in)\n",
    "#iterations=10000, alpha=1e-7\n",
    "w,b,j = multi_gradient_descent(x_train, y_train, w_in, 0.0, 1e-7, 10000)\n",
    "\n",
    "x_predict = multi_bulk_predict(x_train, w, b)\n",
    "\n",
    "plt.scatter(x,y,marker=\"x\", c=\"r\", label=\"original\")\n",
    "plt.plot(x,x_predict, c=\"b\", label=\"predicted\")\n",
    "plt.xlabel(\"X\")\n",
    "plt.ylabel(\"Y\")\n",
    "plt.legend()\n",
    "plt.show()"
   ]
  },
  {
   "cell_type": "markdown",
   "id": "4643508e",
   "metadata": {},
   "source": [
    "As Gradient decent is slow - lets try feature scaling. Feature scaling becomes more important in case of polynomial regression. "
   ]
  },
  {
   "cell_type": "code",
   "execution_count": 59,
   "id": "adf36240",
   "metadata": {},
   "outputs": [],
   "source": [
    "# X - 2-D Array - mxn where \n",
    "#m is number of training set and n is number of features.\n",
    "def z_score_normalize(X):\n",
    "    mu = np.mean(x, axis=0)\n",
    "    std = np.std(x, axis=0)\n",
    "    return (x - mu) / std , mu, std"
   ]
  },
  {
   "cell_type": "code",
   "execution_count": 61,
   "id": "eb0badd8",
   "metadata": {},
   "outputs": [
    {
     "name": "stdout",
     "output_type": "stream",
     "text": [
      "Iteration    0: Cost  7305.57   \n",
      "Iteration  100: Cost     0.14   \n",
      "Iteration  200: Cost     0.14   \n",
      "Iteration  300: Cost     0.14   \n",
      "Iteration  400: Cost     0.14   \n",
      "Iteration  500: Cost     0.14   \n",
      "Iteration  600: Cost     0.13   \n",
      "Iteration  700: Cost     0.13   \n",
      "Iteration  800: Cost     0.13   \n",
      "Iteration  900: Cost     0.13   \n"
     ]
    }
   ],
   "source": [
    "x_norm, mu, sigma = z_score_normalize(x_train)\n",
    "w,b,j = multi_gradient_descent(x_train, y_train, w_in, 0.0, 1e-5, 1000)"
   ]
  },
  {
   "cell_type": "code",
   "execution_count": 62,
   "id": "40333f60",
   "metadata": {},
   "outputs": [
    {
     "data": {
      "image/png": "[encoded data removed]",
      "text/plain": [
       "<Figure size 432x288 with 1 Axes>"
      ]
     },
     "metadata": {
      "needs_background": "light"
     },
     "output_type": "display_data"
    }
   ],
   "source": [
    "x_predict = multi_bulk_predict(x_norm, w, b)\n",
    "\n",
    "plt.scatter(x,y,marker=\"x\", c=\"r\", label=\"original\")\n",
    "plt.plot(x,x_predict, c=\"b\", label=\"predicted\")\n",
    "plt.xlabel(\"X\")\n",
    "plt.ylabel(\"Y\")\n",
    "plt.legend()\n",
    "plt.show()"
   ]
  },
  {
   "cell_type": "code",
   "execution_count": null,
   "id": "b6beb401",
   "metadata": {},
   "outputs": [],
   "source": []
  }
 ],
 "metadata": {
  "kernelspec": {
   "display_name": "Python 3 (ipykernel)",
   "language": "python",
   "name": "python3"
  },
  "language_info": {
   "codemirror_mode": {
    "name": "ipython",
    "version": 3
   },
   "file_extension": ".py",
   "mimetype": "text/x-python",
   "name": "python",
   "nbconvert_exporter": "python",
   "pygments_lexer": "ipython3",
   "version": "3.8.9"
  }
 },
 "nbformat": 4,
 "nbformat_minor": 5
}
