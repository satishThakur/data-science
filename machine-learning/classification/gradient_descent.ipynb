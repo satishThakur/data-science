{
 "cells": [
  {
   "cell_type": "code",
   "execution_count": 20,
   "id": "cb268e3e",
   "metadata": {},
   "outputs": [],
   "source": [
    "import numpy as np\n",
    "import math, copy\n",
    "import matplotlib.pyplot as plt "
   ]
  },
  {
   "cell_type": "code",
   "execution_count": 8,
   "id": "b989ff76",
   "metadata": {},
   "outputs": [],
   "source": [
    "def plot_areas(x, y, ax):\n",
    "    \"\"\"\n",
    "    Input:\n",
    "        x: NdArray with shape (N,2)\n",
    "        y: NDArray with shape (N,1)\n",
    "    \n",
    "    Output:\n",
    "        Plots x[0] in x asis and x[y] in y asis. Plots y corresponding to each value.\n",
    "        \n",
    "    \"\"\"\n",
    "    scale_false = lambda t: 50 if (t == 0) else 0\n",
    "    scale_true  = lambda t: 50 if (t == 1) else 0\n",
    "    color = lambda t: \"r\" if (t == 0) else \"b\"\n",
    "    \n",
    "    area1 = np.array([scale_false(yi) for yi in y])\n",
    "    area2 = np.array([scale_true(yi) for yi in y])\n",
    "    colors = np.array([color(yi) for yi in y])\n",
    "    ax.scatter(x[:,0], x[:,1], area1,marker='x',c=colors, label=\"Y=0\")\n",
    "    ax.scatter(x[:,0], x[:,1], area2,marker='o',c=colors, label=\"Y=1\")"
   ]
  },
  {
   "cell_type": "code",
   "execution_count": 9,
   "id": "56717129",
   "metadata": {},
   "outputs": [],
   "source": [
    "x_train = np.array([[0.5, 1.5], [1,1], [1.5, 0.5], [3, 0.5], [2, 2], [1, 2.5]])\n",
    "y_train = np.array([0, 0, 0, 1, 1, 1])"
   ]
  },
  {
   "cell_type": "code",
   "execution_count": 10,
   "id": "dd0529e6",
   "metadata": {},
   "outputs": [
    {
     "data": {
      "image/png": "[encoded data removed]",
      "text/plain": [
       "<Figure size 576x432 with 1 Axes>"
      ]
     },
     "metadata": {
      "needs_background": "light"
     },
     "output_type": "display_data"
    }
   ],
   "source": [
    "fig,ax = plt.subplots(1,1,figsize=(8,6))\n",
    "plot_areas(x_train, y_train, ax)\n",
    "ax.set_ylabel('$x_1$', fontsize=12)\n",
    "ax.set_xlabel('$x_0$', fontsize=12)\n",
    "plt.legend()\n",
    "plt.show()"
   ]
  },
  {
   "cell_type": "code",
   "execution_count": 13,
   "id": "bdc0a6b1",
   "metadata": {},
   "outputs": [],
   "source": [
    "def sigmoid_single(zi):\n",
    "    \"\"\"\n",
    "    Input: \n",
    "        zi : scalar value \n",
    "    Output: \n",
    "        sigmoid function applied to zi\n",
    "    \"\"\"\n",
    "    return 1 / (1 + math.exp(-zi))\n",
    "    \n",
    "\n",
    "def calculate_cost(x,y,w,b):\n",
    "    \"\"\"\n",
    "    Input:\n",
    "        x : NDArray(m,n) - m is number of training set, n is numer of features.\n",
    "        y : NDArray(m,1) - output value for m examples.\n",
    "        w : Parameters\n",
    "        b : bias\n",
    "    \n",
    "    Output:\n",
    "        Cost\n",
    "    \"\"\"\n",
    "    m,n = x.shape\n",
    "    loss = 0.0\n",
    "    for i in range(m):\n",
    "        zi = np.dot(x[i], w) + b\n",
    "        gzi = sigmoid_single(zi)\n",
    "        loss = loss + y[i]*np.log(gzi) + (1 - y[i])*np.log(1 - gzi)\n",
    "    \n",
    "    return -loss/m"
   ]
  },
  {
   "cell_type": "markdown",
   "id": "f5b84038",
   "metadata": {},
   "source": [
    "Recall the gradient descent algorithm utilizes the gradient calculation:\n",
    "$$\\begin{align*}\n",
    "&\\text{repeat until convergence:} \\; \\lbrace \\\\\n",
    "&  \\; \\; \\;w_j = w_j -  \\alpha \\frac{\\partial J(\\mathbf{w},b)}{\\partial w_j} \\tag{1}  \\; & \\text{for j := 0..n-1} \\\\ \n",
    "&  \\; \\; \\;  \\; \\;b = b -  \\alpha \\frac{\\partial J(\\mathbf{w},b)}{\\partial b} \\\\\n",
    "&\\rbrace\n",
    "\\end{align*}$$\n",
    "\n",
    "Where each iteration performs simultaneous updates on $w_j$ for all $j$, where\n",
    "$$\\begin{align*}\n",
    "\\frac{\\partial J(\\mathbf{w},b)}{\\partial w_j}  &= \\frac{1}{m} \\sum\\limits_{i = 0}^{m-1} (f_{\\mathbf{w},b}(\\mathbf{x}^{(i)}) - y^{(i)})x_{j}^{(i)} \\tag{2} \\\\\n",
    "\\frac{\\partial J(\\mathbf{w},b)}{\\partial b}  &= \\frac{1}{m} \\sum\\limits_{i = 0}^{m-1} (f_{\\mathbf{w},b}(\\mathbf{x}^{(i)}) - y^{(i)}) \\tag{3} \n",
    "\\end{align*}$$\n",
    "\n",
    "* m is the number of training examples in the data set      \n",
    "* $f_{\\mathbf{w},b}(x^{(i)})$ is the model's prediction, while $y^{(i)}$ is the target\n",
    "* For a logistic regression model  \n",
    "    $z = \\mathbf{w} \\cdot \\mathbf{x} + b$  \n",
    "    $f_{\\mathbf{w},b}(x) = g(z)$  \n",
    "    where $g(z)$ is the sigmoid function:  \n",
    "    $g(z) = \\frac{1}{1+e^{-z}}$  "
   ]
  },
  {
   "cell_type": "code",
   "execution_count": 14,
   "id": "924bdc81",
   "metadata": {},
   "outputs": [],
   "source": [
    "def gradient_logistic(x, y, w, b):\n",
    "    \"\"\"\n",
    "    Args:\n",
    "        x (ndarray(m,n)) : m is the number of training set, n is number of features.\n",
    "        y (ndarray(m,))  : Target values\n",
    "        w (ndarray(n,))  : Model Parameters\n",
    "        b Scaler.        : Model parameter - b\n",
    "    return:\n",
    "        dj_dw (ndarray(n,)) : Gradient of cost w.r.t. parameters w\n",
    "        dj_db scalar.       : Gradient of cost w.r.t. parameter b        \n",
    "    \"\"\"\n",
    "    m, n = x.shape\n",
    "    dj_dw = np.zeros((n,))\n",
    "    dj_db = 0.0\n",
    "    \n",
    "    for i in range(m):\n",
    "        f_w_b = sigmoid_single(np.dot(x[i], w) + b)\n",
    "        dj_db = dj_db + (f_w_b - y[i])\n",
    "        for j in range(n):\n",
    "           dj_dw[j] = dj_dw[j] + (f_w_b - y[i])*x[i][j]\n",
    "    \n",
    "    return dj_dw/m , dj_db/m\n",
    "    "
   ]
  },
  {
   "cell_type": "code",
   "execution_count": 15,
   "id": "541e4540",
   "metadata": {},
   "outputs": [
    {
     "name": "stdout",
     "output_type": "stream",
     "text": [
      "dj_db: [0.49833339 0.49883943]\n",
      "dj_dw: 0.49861806546328574\n"
     ]
    }
   ],
   "source": [
    "X_tmp = np.array([[0.5, 1.5], [1,1], [1.5, 0.5], [3, 0.5], [2, 2], [1, 2.5]])\n",
    "y_tmp = np.array([0, 0, 0, 1, 1, 1])\n",
    "w_tmp = np.array([2.,3.])\n",
    "b_tmp = 1.\n",
    "dj_db_tmp, dj_dw_tmp = gradient_logistic(X_tmp, y_tmp, w_tmp, b_tmp)\n",
    "print(f\"dj_db: {dj_db_tmp}\" )\n",
    "print(f\"dj_dw: {dj_dw_tmp.tolist()}\" )"
   ]
  },
  {
   "cell_type": "code",
   "execution_count": 23,
   "id": "a10c89bd",
   "metadata": {},
   "outputs": [],
   "source": [
    "def gradient_descent_logistic(x, y, w_in, b_in, alpha, iters):\n",
    "    \"\"\"\n",
    "    Args:\n",
    "        x (ndarray(m,n)) : m is the number of training set, n is number of features.\n",
    "        y (ndarray(m,))  : Target values\n",
    "        w (ndarray(n,))  : Model Parameters - Initial value\n",
    "        b Scaler.        : Model parameter - b - Initial value\n",
    "        alpha scalar     : Learning rate\n",
    "        iter int.        : number of iterations\n",
    "    return:\n",
    "        w                : converged model parameters\n",
    "        b                : Converged model parameter\n",
    "        j_history        : Cost history with every iteration\n",
    "    \"\"\"\n",
    "    \n",
    "    J_history = []\n",
    "    w = copy.deepcopy(w_in)  #avoid modifying global w within function\n",
    "    b = b_in\n",
    "    \n",
    "    for i in range(iters):\n",
    "        dw, db = gradient_logistic(x,y,w,b)\n",
    "        \n",
    "        w = w - (alpha * dw)\n",
    "        b = b - (alpha * db)\n",
    "        cost = calculate_cost(x, y, w, b)\n",
    "        J_history.append(cost)\n",
    "        \n",
    "        if i % 1000 == 0:\n",
    "            print(f'Iteration - {i} cost is {cost}')\n",
    "        \n",
    "    return w, b,J_history\n",
    "        "
   ]
  },
  {
   "cell_type": "code",
   "execution_count": 24,
   "id": "3f584167",
   "metadata": {},
   "outputs": [
    {
     "name": "stdout",
     "output_type": "stream",
     "text": [
      "Iteration - 0 cost is 0.684610468560574\n",
      "Iteration - 1000 cost is 0.1590977666870457\n",
      "Iteration - 2000 cost is 0.08460064176930078\n",
      "Iteration - 3000 cost is 0.05705327279402531\n",
      "Iteration - 4000 cost is 0.04290759421682\n",
      "Iteration - 5000 cost is 0.03433847729884557\n",
      "Iteration - 6000 cost is 0.02860379802212006\n",
      "Iteration - 7000 cost is 0.02450156960879306\n",
      "Iteration - 8000 cost is 0.02142370332569295\n",
      "Iteration - 9000 cost is 0.019030137124109114\n",
      "\n",
      "updated parameters: w:[5.28123029 5.07815608], b:-14.222409982019837\n"
     ]
    }
   ],
   "source": [
    "w_tmp  = np.zeros_like(x_train[0])\n",
    "b_tmp  = 0.\n",
    "alph = 0.1\n",
    "iters = 10000\n",
    "\n",
    "w_out, b_out, _ = gradient_descent_logistic(x_train, y_train, w_tmp, b_tmp, alph, iters) \n",
    "print(f\"\\nupdated parameters: w:{w_out}, b:{b_out}\")"
   ]
  },
  {
   "cell_type": "code",
   "execution_count": 26,
   "id": "7df4a05c",
   "metadata": {},
   "outputs": [
    {
     "data": {
      "image/png": "[encoded data removed]",
      "text/plain": [
       "<Figure size 576x432 with 1 Axes>"
      ]
     },
     "metadata": {
      "needs_background": "light"
     },
     "output_type": "display_data"
    }
   ],
   "source": [
    "x0 = -b_out / w_out[0]\n",
    "x1 = -b_out / w_out[1]\n",
    "\n",
    "fig,ax = plt.subplots(1,1,figsize=(8,6))\n",
    "plot_areas(x_train, y_train, ax)\n",
    "ax.axis([0, 4, 0, 3.5])\n",
    "ax.plot([0, x0], [x1, 0], color=\"b\")\n",
    "ax.set_ylabel('$x_1$', fontsize=12)\n",
    "ax.set_xlabel('$x_0$', fontsize=12)\n",
    "plt.legend()\n",
    "plt.show()\n"
   ]
  },
  {
   "cell_type": "code",
   "execution_count": null,
   "id": "63882b0b",
   "metadata": {},
   "outputs": [],
   "source": []
  }
 ],
 "metadata": {
  "kernelspec": {
   "display_name": "Python 3 (ipykernel)",
   "language": "python",
   "name": "python3"
  },
  "language_info": {
   "codemirror_mode": {
    "name": "ipython",
    "version": 3
   },
   "file_extension": ".py",
   "mimetype": "text/x-python",
   "name": "python",
   "nbconvert_exporter": "python",
   "pygments_lexer": "ipython3",
   "version": "3.8.9"
  }
 },
 "nbformat": 4,
 "nbformat_minor": 5
}
