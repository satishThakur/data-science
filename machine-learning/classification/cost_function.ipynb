{
 "cells": [
  {
   "cell_type": "code",
   "execution_count": 3,
   "id": "aa764cb9",
   "metadata": {},
   "outputs": [],
   "source": [
    "import numpy as np\n",
    "import math\n",
    "import matplotlib.pyplot as plt "
   ]
  },
  {
   "cell_type": "code",
   "execution_count": 10,
   "id": "39c958aa",
   "metadata": {},
   "outputs": [],
   "source": [
    "def plot_areas(x, y, ax):\n",
    "    \"\"\"\n",
    "    Input:\n",
    "        x: NdArray with shape (N,2)\n",
    "        y: NDArray with shape (N,1)\n",
    "    \n",
    "    Output:\n",
    "        Plots x[0] in x asis and x[y] in y asis. Plots y corresponding to each value.\n",
    "        \n",
    "    \"\"\"\n",
    "    scale_false = lambda t: 50 if (t == 0) else 0\n",
    "    scale_true  = lambda t: 50 if (t == 1) else 0\n",
    "    color = lambda t: \"r\" if (t == 0) else \"b\"\n",
    "    \n",
    "    area1 = np.array([scale_false(yi) for yi in y])\n",
    "    area2 = np.array([scale_true(yi) for yi in y])\n",
    "    colors = np.array([color(yi) for yi in y])\n",
    "    ax.scatter(x[:,0], x[:,1], area1,marker='x',c=colors)\n",
    "    ax.scatter(x[:,0], x[:,1], area2,marker='o',c=colors)"
   ]
  },
  {
   "cell_type": "markdown",
   "id": "d17f2b5c",
   "metadata": {},
   "source": [
    "## Cost function\n",
    "\n",
    "In a previous lab, you developed the *logistic loss* function. Recall, loss is defined to apply to one example. Here you combine the losses to form the **cost**, which includes all the examples.\n",
    "\n",
    "\n",
    "Recall that for logistic regression, the cost function is of the form \n",
    "\n",
    "$$ J(\\mathbf{w},b) = \\frac{1}{m} \\sum_{i=0}^{m-1} \\left[ loss(f_{\\mathbf{w},b}(\\mathbf{x}^{(i)}), y^{(i)}) \\right] \\tag{1}$$\n",
    "\n",
    "where\n",
    "* $loss(f_{\\mathbf{w},b}(\\mathbf{x}^{(i)}), y^{(i)})$ is the cost for a single data point, which is:\n",
    "\n",
    "    $$loss(f_{\\mathbf{w},b}(\\mathbf{x}^{(i)}), y^{(i)}) = -y^{(i)} \\log\\left(f_{\\mathbf{w},b}\\left( \\mathbf{x}^{(i)} \\right) \\right) - \\left( 1 - y^{(i)}\\right) \\log \\left( 1 - f_{\\mathbf{w},b}\\left( \\mathbf{x}^{(i)} \\right) \\right) \\tag{2}$$\n",
    "    \n",
    "*  where m is the number of training examples in the data set and:\n",
    "$$\n",
    "\\begin{align}\n",
    "  f_{\\mathbf{w},b}(\\mathbf{x^{(i)}}) &= g(z^{(i)})\\tag{3} \\\\\n",
    "  z^{(i)} &= \\mathbf{w} \\cdot \\mathbf{x}^{(i)}+ b\\tag{4} \\\\\n",
    "  g(z^{(i)}) &= \\frac{1}{1+e^{-z^{(i)}}}\\tag{5} \n",
    "\\end{align}\n",
    "$$"
   ]
  },
  {
   "cell_type": "code",
   "execution_count": 7,
   "id": "c69b3e28",
   "metadata": {},
   "outputs": [],
   "source": [
    "def sigmoid_single(zi):\n",
    "    \"\"\"\n",
    "    Input: \n",
    "        zi : scalar value \n",
    "    Output: \n",
    "        sigmoid function applied to zi\n",
    "    \"\"\"\n",
    "    return 1 / (1 + math.exp(-zi))\n",
    "    \n",
    "\n",
    "def calculate_cost(x,y,w,b):\n",
    "    \"\"\"\n",
    "    Input:\n",
    "        x : NDArray(m,n) - m is number of training set, n is numer of features.\n",
    "        y : NDArray(m,1) - output value for m examples.\n",
    "        w : Parameters\n",
    "        b : bias\n",
    "    \n",
    "    Output:\n",
    "        Cost\n",
    "    \"\"\"\n",
    "    m,n = x.shape\n",
    "    loss = 0.0\n",
    "    for i in range(m):\n",
    "        zi = np.dot(x[i], w) + b\n",
    "        gzi = sigmoid_single(zi)\n",
    "        loss = loss + y[i]*np.log(gzi) + (1 - y[i])*np.log(1 - gzi)\n",
    "    \n",
    "    return -loss/m"
   ]
  },
  {
   "cell_type": "code",
   "execution_count": 8,
   "id": "ac4a9205",
   "metadata": {},
   "outputs": [],
   "source": [
    "X_train = np.array([[0.5, 1.5], [1,1], [1.5, 0.5], [3, 0.5], [2, 2], [1, 2.5]])  #(m,n)\n",
    "y_train = np.array([0, 0, 0, 1, 1, 1])   "
   ]
  },
  {
   "cell_type": "code",
   "execution_count": 9,
   "id": "5886b15b",
   "metadata": {},
   "outputs": [
    {
     "name": "stdout",
     "output_type": "stream",
     "text": [
      "0.36686678640551745\n"
     ]
    }
   ],
   "source": [
    "w_tmp = np.array([1,1])\n",
    "b_tmp = -3\n",
    "print(calculate_cost(X_train, y_train, w_tmp, b_tmp))"
   ]
  },
  {
   "cell_type": "markdown",
   "id": "307cc8bb",
   "metadata": {},
   "source": [
    "## Example\n",
    "Now, let's see what the cost function output is for a different value of $w$. \n",
    "\n",
    "* In a previous lab, you plotted the decision boundary for  $b = -3, w_0 = 1, w_1 = 1$. That is, you had `b = -3, w = np.array([1,1])`.\n",
    "\n",
    "* Let's say you want to see if $b = -4, w_0 = 1, w_1 = 1$, or `b = -4, w = np.array([1,1])` provides a better model.\n",
    "\n",
    "Let's first plot the decision boundary for these two different $b$ values to see which one fits the data better.\n",
    "\n",
    "* For $b = -3, w_0 = 1, w_1 = 1$, we'll plot $-3 + x_0+x_1 = 0$ (shown in blue)\n",
    "* For $b = -4, w_0 = 1, w_1 = 1$, we'll plot $-4 + x_0+x_1 = 0$ (shown in magenta)"
   ]
  },
  {
   "cell_type": "code",
   "execution_count": 13,
   "id": "170db19e",
   "metadata": {},
   "outputs": [
    {
     "data": {
      "image/png": "[encoded data removed]",
      "text/plain": [
       "<Figure size 576x432 with 1 Axes>"
      ]
     },
     "metadata": {
      "needs_background": "light"
     },
     "output_type": "display_data"
    }
   ],
   "source": [
    "x = np.arange(0,6)\n",
    "x3 = 3 - x\n",
    "x4 = 4 - x\n",
    "\n",
    "fig,ax = plt.subplots(1,1,figsize=(8,6))\n",
    "ax.plot(x,x3, c = \"r\")\n",
    "ax.plot(x,x4, c = \"b\")\n",
    "\n",
    "\n",
    "plot_areas(X_train,y_train,ax)\n",
    "ax.set_ylabel('$x_1$')\n",
    "ax.set_xlabel('$x_0$')\n",
    "\n",
    "plt.show()"
   ]
  },
  {
   "cell_type": "code",
   "execution_count": 14,
   "id": "3a29ebbe",
   "metadata": {},
   "outputs": [
    {
     "name": "stdout",
     "output_type": "stream",
     "text": [
      "Cost for b = -3 :  0.36686678640551745\n",
      "Cost for b = -4 :  0.5036808636748461\n"
     ]
    }
   ],
   "source": [
    "w_array1 = np.array([1,1])\n",
    "b_1 = -3\n",
    "w_array2 = np.array([1,1])\n",
    "b_2 = -4\n",
    "\n",
    "print(\"Cost for b = -3 : \", calculate_cost(X_train, y_train, w_array1, b_1))\n",
    "print(\"Cost for b = -4 : \", calculate_cost(X_train, y_train, w_array2, b_2))"
   ]
  },
  {
   "cell_type": "code",
   "execution_count": null,
   "id": "5e941bc9",
   "metadata": {},
   "outputs": [],
   "source": []
  }
 ],
 "metadata": {
  "kernelspec": {
   "display_name": "Python 3 (ipykernel)",
   "language": "python",
   "name": "python3"
  },
  "language_info": {
   "codemirror_mode": {
    "name": "ipython",
    "version": 3
   },
   "file_extension": ".py",
   "mimetype": "text/x-python",
   "name": "python",
   "nbconvert_exporter": "python",
   "pygments_lexer": "ipython3",
   "version": "3.8.9"
  }
 },
 "nbformat": 4,
 "nbformat_minor": 5
}
