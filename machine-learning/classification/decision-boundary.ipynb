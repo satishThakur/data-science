{
 "cells": [
  {
   "cell_type": "markdown",
   "id": "6c7ca32d",
   "metadata": {},
   "source": [
    "# Decision Boundary"
   ]
  },
  {
   "cell_type": "markdown",
   "id": "edb3d002",
   "metadata": {},
   "source": [
    "In this example we would examine the decision boundary in Logistic regression where we still use linear equation."
   ]
  },
  {
   "cell_type": "code",
   "execution_count": 2,
   "id": "f8625858",
   "metadata": {},
   "outputs": [],
   "source": [
    "import numpy as np\n",
    "import matplotlib.pyplot as plt"
   ]
  },
  {
   "cell_type": "markdown",
   "id": "f3affcdb",
   "metadata": {},
   "source": [
    "Lets write a helper function which can plot 2 features and corresponding output variable (which is binary)."
   ]
  },
  {
   "cell_type": "code",
   "execution_count": 51,
   "id": "109f7942",
   "metadata": {},
   "outputs": [],
   "source": [
    "def plot_areas(x, y, ax):\n",
    "    \"\"\"\n",
    "    Input:\n",
    "        x: NdArray with shape (N,2)\n",
    "        y: NDArray with shape (N,1)\n",
    "    \n",
    "    Output:\n",
    "        Plots x[0] in x asis and x[y] in y asis. Plots y corresponding to each value.\n",
    "        \n",
    "    \"\"\"\n",
    "    scale_false = lambda t: 50 if (t == 0) else 0\n",
    "    scale_true  = lambda t: 50 if (t == 1) else 0\n",
    "    color = lambda t: \"r\" if (t == 0) else \"b\"\n",
    "    \n",
    "    area1 = np.array([scale_false(yi) for yi in y])\n",
    "    area2 = np.array([scale_true(yi) for yi in y])\n",
    "    colors = np.array([color(yi) for yi in y])\n",
    "    ax.scatter(x[:,0], x[:,1], area1,marker='x',c=colors)\n",
    "    ax.scatter(x[:,0], x[:,1], area2,marker='o',c=colors)\n",
    "    "
   ]
  },
  {
   "cell_type": "code",
   "execution_count": 53,
   "id": "eda381af",
   "metadata": {},
   "outputs": [
    {
     "data": {
      "image/png": "[encoded data removed]",
      "text/plain": [
       "<Figure size 360x288 with 1 Axes>"
      ]
     },
     "metadata": {
      "needs_background": "light"
     },
     "output_type": "display_data"
    }
   ],
   "source": [
    "x = np.array([[0.5, 1.5], [1,1], [1.5, 0.5], [3, 0.5], [2, 2], [1, 2.5]])\n",
    "y = np.array([0, 0, 0, 1, 1, 1]).reshape(-1,1) \n",
    "\n",
    "fig,ax = plt.subplots(1,1,figsize=(5,4))\n",
    "plot_areas(x,y,ax)\n",
    "ax.set_ylabel('$x_1$')\n",
    "ax.set_xlabel('$x_0$')\n",
    "plt.show()\n"
   ]
  },
  {
   "cell_type": "markdown",
   "id": "27d3128d",
   "metadata": {},
   "source": [
    "Lets assume we have choosen the value of w1 as 1 and w2 as 1 and b as -3. Lets not bother how we computed these parameters for now (we will see that in next section).\n",
    "Now the decision boundary would be:\n",
    "Now, let's go back to our example to understand how the logistic regression model is making predictions.\n",
    "\n",
    "* Our logistic regression model has the form\n",
    "\n",
    "  $f(\\mathbf{x}) = g(-3 + x_0+x_1)$\n",
    "\n",
    "\n",
    "* We can see that this model predicts $y=1$ if $-3 + x_0+x_1 >= 0$\n",
    "\n",
    "Let's see what this looks like graphically. We'll start by plotting $-3 + x_0+x_1 = 0$, which is equivalent to $x_1 = 3 - x_0$."
   ]
  },
  {
   "cell_type": "code",
   "execution_count": 55,
   "id": "d8ac8b07",
   "metadata": {},
   "outputs": [
    {
     "data": {
      "image/png": "[encoded data removed]",
      "text/plain": [
       "<Figure size 576x432 with 1 Axes>"
      ]
     },
     "metadata": {
      "needs_background": "light"
     },
     "output_type": "display_data"
    }
   ],
   "source": [
    "# Choose values between 0 and 6\n",
    "x0 = np.arange(0,6)\n",
    "x1 = 3 - x0\n",
    "fig,ax = plt.subplots(1,1,figsize=(8,6))\n",
    "# Plot the decision boundary\n",
    "ax.plot(x0,x1, c=\"b\")\n",
    "ax.axis([0, 4, 0, 3.5])\n",
    "\n",
    "# Fill the region below the line\n",
    "ax.fill_between(x0,x1, alpha=0.2)\n",
    "\n",
    "# Plot the original data\n",
    "plot_areas(x,y,ax)\n",
    "#done\n",
    "ax.set_ylabel(r'$x_1$')\n",
    "ax.set_xlabel(r'$x_0$')\n",
    "plt.show()"
   ]
  },
  {
   "cell_type": "code",
   "execution_count": null,
   "id": "e3c6f3f8",
   "metadata": {},
   "outputs": [],
   "source": []
  }
 ],
 "metadata": {
  "kernelspec": {
   "display_name": "Python 3 (ipykernel)",
   "language": "python",
   "name": "python3"
  },
  "language_info": {
   "codemirror_mode": {
    "name": "ipython",
    "version": 3
   },
   "file_extension": ".py",
   "mimetype": "text/x-python",
   "name": "python",
   "nbconvert_exporter": "python",
   "pygments_lexer": "ipython3",
   "version": "3.8.9"
  }
 },
 "nbformat": 4,
 "nbformat_minor": 5
}
