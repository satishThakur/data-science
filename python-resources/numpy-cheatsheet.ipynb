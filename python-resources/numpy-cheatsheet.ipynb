{
 "cells": [
  {
   "cell_type": "markdown",
   "id": "053c23cb",
   "metadata": {},
   "source": [
    "# Numpy Cheatsheet"
   ]
  },
  {
   "cell_type": "markdown",
   "id": "7af2ef0b",
   "metadata": {},
   "source": [
    "## What is Numpy?\n",
    "Numpy is a Python library used for numeric calculations Numpy supports multi dimentional arrays and methods to process the arrays. Few of the operations which are handy are:\n",
    "1. Using arrays to represent vectors and then doing operations on Vectors.\n",
    "2. Using 2-d array to store matrix and doing matrics lagebra.\n",
    "\n",
    "So basically Numpy lets us store data in arrays and support algebra on these. "
   ]
  },
  {
   "cell_type": "markdown",
   "id": "6f521fd5",
   "metadata": {},
   "source": [
    "## Playing around with ndarray\n",
    "\n",
    "Numpy array is homogenenious multidimentional array. The class implementing it is called ndarray. Few basics:\n",
    "\n",
    "1. The number of dimentions are called axis or dimention. The size of array is called length.\n",
    "2. Shape shows the dimention of array as a tuple. So (m,n) where m is the number of rows and n is number of columns. So the lengh of the tuple should be the number of axis.\n",
    "3. To find the data type of ndarray - a.dtype.name\n",
    "\n"
   ]
  },
  {
   "cell_type": "code",
   "execution_count": 37,
   "id": "2f42e87b",
   "metadata": {},
   "outputs": [],
   "source": [
    "import numpy as np"
   ]
  },
  {
   "cell_type": "code",
   "execution_count": 38,
   "id": "564bd6db",
   "metadata": {},
   "outputs": [
    {
     "name": "stdout",
     "output_type": "stream",
     "text": [
      "1\n",
      "(4,)\n",
      "2\n",
      "(4, 3)\n",
      "int64\n"
     ]
    }
   ],
   "source": [
    "#lets create array with single dinemtion or axis\n",
    "scores = np.array([1,2,3,4])\n",
    "print(scores.ndim)\n",
    "print(scores.shape)\n",
    "\n",
    "data = np.array([[1,2,3],[4,5,6],[7,8,9],[10,11,12]])\n",
    "print(data.ndim) #should be 2\n",
    "print(data.shape) # should be (4,3)\n",
    "print(data.dtype.name) #/int64"
   ]
  },
  {
   "cell_type": "markdown",
   "id": "9d192758",
   "metadata": {},
   "source": [
    "### Array Creation\n",
    "Few ways to create array:\n",
    "- `np.array([...])`\n",
    "- `np.zeros((m,n))` - Create mxn array filled with zero. Argument is a tuple\n",
    "- `np.empty((m,n))` - Create empty array where values are filled from memory - could have any values.\n",
    "- `np.arange(start, end, step)` - Start to end element with step spacing - uses floating point.\n",
    "- `np.linspace(start, end, num)` - same as arrange but tells how many element to devide the space into."
   ]
  },
  {
   "cell_type": "code",
   "execution_count": 39,
   "id": "c2d27b7b",
   "metadata": {},
   "outputs": [],
   "source": [
    "#lets write a helper function to print arrays\n",
    "def print_array(arr):\n",
    "    print(f'{arr} - type is {arr.dtype.name} has {arr.ndim} axis  and shape is {arr.shape}')"
   ]
  },
  {
   "cell_type": "code",
   "execution_count": 40,
   "id": "f9ac3a63",
   "metadata": {},
   "outputs": [
    {
     "name": "stdout",
     "output_type": "stream",
     "text": [
      "['a' 'b' 'c' 'd'] - type is str32 has 1 axis  and shape is (4,)\n",
      "[[0. 0. 0. 0.]\n",
      " [0. 0. 0. 0.]\n",
      " [0. 0. 0. 0.]] - type is float64 has 2 axis  and shape is (3, 4)\n",
      "[ 1  4  7 10 13 16 19] - type is int64 has 1 axis  and shape is (7,)\n",
      "[ 0.          2.22222222  4.44444444  6.66666667  8.88888889 11.11111111\n",
      " 13.33333333 15.55555556 17.77777778 20.        ] - type is float64 has 1 axis  and shape is (10,)\n"
     ]
    }
   ],
   "source": [
    "x = np.array(['a','b','c','d']) #initialize array from known elements\n",
    "print_array(x)\n",
    "\n",
    "y = np.zeros((3,4)) # argument is tuple - its single argument\n",
    "print_array(y)\n",
    "\n",
    "z = np.arange(1,20,3)\n",
    "print_array(z)\n",
    "\n",
    "a = np.linspace(0,20,10)\n",
    "print_array(a)"
   ]
  },
  {
   "cell_type": "markdown",
   "id": "8f4f62eb",
   "metadata": {},
   "source": [
    "### Indices, slices and Iteration\n",
    "* Individual element can be accessed by index -> (row,column)\n",
    "* Sliceing let us get subset of the array.\n",
    "* We will see example of how to iterate over array in a for loop"
   ]
  },
  {
   "cell_type": "code",
   "execution_count": 41,
   "id": "688fa1dc",
   "metadata": {},
   "outputs": [
    {
     "name": "stdout",
     "output_type": "stream",
     "text": [
      "[[ 1  2  3  4]\n",
      " [ 5  6  7  8]\n",
      " [ 9 10 11 12]] - type is int64 has 2 axis  and shape is (3, 4)\n",
      "12\n",
      "[ 9 11]\n",
      "9\n",
      "[1 2 3 4]\n",
      "[5 6 7 8]\n",
      "[ 9 10 11 12]\n",
      "1\n",
      "2\n",
      "3\n",
      "4\n",
      "5\n",
      "6\n",
      "7\n",
      "8\n",
      "9\n",
      "10\n",
      "11\n",
      "12\n",
      "1\n",
      "2\n",
      "3\n",
      "4\n",
      "5\n",
      "6\n",
      "7\n",
      "8\n",
      "9\n",
      "10\n",
      "11\n",
      "12\n"
     ]
    }
   ],
   "source": [
    "x = np.array([[1,2,3,4],[5,6,7,8],[9,10,11,12]])\n",
    "print_array(x)\n",
    "\n",
    "print(x[2,3]) #third row third element - should be 7\n",
    "\n",
    "print(x[2][0::2]) # third row element index 0 to end with step of 2.\n",
    "\n",
    "print(x[-1][0]) # last row first element - 9\n",
    "\n",
    "#processing all rows\n",
    "for row in x:\n",
    "    print(row)\n",
    "\n",
    "#process all elements\n",
    "for elem in x.flat:\n",
    "    print(elem)\n",
    "        \n",
    "#0r\n",
    "for row in x:\n",
    "    for i in range(row.size):\n",
    "        print(row[i])\n",
    "    \n"
   ]
  },
  {
   "cell_type": "markdown",
   "id": "06d0c025",
   "metadata": {},
   "source": [
    "### Few important Functions\n",
    "* Dot product. We can use `np.dot(a,b)` to find a dot product between vector and same can be used for matrix multiplication. "
   ]
  },
  {
   "cell_type": "code",
   "execution_count": 46,
   "id": "5c29ba46",
   "metadata": {},
   "outputs": [
    {
     "name": "stdout",
     "output_type": "stream",
     "text": [
      "70\n",
      "[[1 2]\n",
      " [3 4]] - type is int64 has 2 axis  and shape is (2, 2)\n",
      "[[5 7]\n",
      " [7 8]] - type is int64 has 2 axis  and shape is (2, 2)\n",
      "[[19 23]\n",
      " [43 53]] - type is int64 has 2 axis  and shape is (2, 2)\n"
     ]
    }
   ],
   "source": [
    "va = np.array([1,2,3,4])\n",
    "vb = np.array([5,6,7,8])\n",
    "\n",
    "dp = np.dot(va,vb)\n",
    "print(dp)\n",
    "\n",
    "ma = np.array([[1,2],[3,4]])\n",
    "mb = np.array([[5,7],[7,8]])\n",
    "\n",
    "mc = np.dot(ma,mb)\n",
    "\n",
    "print_array(ma)\n",
    "print_array(mb)\n",
    "print_array(mc)"
   ]
  },
  {
   "cell_type": "code",
   "execution_count": null,
   "id": "32cd34f9",
   "metadata": {},
   "outputs": [],
   "source": []
  }
 ],
 "metadata": {
  "kernelspec": {
   "display_name": "Python 3 (ipykernel)",
   "language": "python",
   "name": "python3"
  },
  "language_info": {
   "codemirror_mode": {
    "name": "ipython",
    "version": 3
   },
   "file_extension": ".py",
   "mimetype": "text/x-python",
   "name": "python",
   "nbconvert_exporter": "python",
   "pygments_lexer": "ipython3",
   "version": "3.8.9"
  }
 },
 "nbformat": 4,
 "nbformat_minor": 5
}
