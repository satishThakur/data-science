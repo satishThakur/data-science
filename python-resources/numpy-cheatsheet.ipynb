{
 "cells": [
  {
   "cell_type": "markdown",
   "id": "73c7f251",
   "metadata": {},
   "source": [
    "# Numpy Cheatsheet"
   ]
  },
  {
   "cell_type": "markdown",
   "id": "343abb42",
   "metadata": {},
   "source": [
    "## What is Numpy?\n",
    "Numpy is a Python library used for numeric calculations Numpy supports multi dimentional arrays and methods to process the arrays. Few of the operations which are handy are:\n",
    "1. Using arrays to represent vectors and then doing operations on Vectors.\n",
    "2. Using 2-d array to store matrix and doing matrics lagebra.\n",
    "\n",
    "So basically Numpy lets us store data in arrays and support algebra on these. "
   ]
  },
  {
   "cell_type": "markdown",
   "id": "b4695457",
   "metadata": {},
   "source": [
    "## Playing around with ndarray\n",
    "Numpy array is homogenenious multidimentional array. The class implementing it is called ndarray. Few basics:\n",
    "1. The number of dimentions are called axis or dimention. The size of array is called length.\n",
    "2. Shape shows the dimention of array as a tuple. So (m,n) where m is the number of rows and n is number of columns. So the lengh of the tuple should be the number of axis.\n",
    "\n"
   ]
  },
  {
   "cell_type": "code",
   "execution_count": 1,
   "id": "3a021ebf",
   "metadata": {},
   "outputs": [],
   "source": [
    "import numpy as np"
   ]
  },
  {
   "cell_type": "code",
   "execution_count": 7,
   "id": "4efa77f7",
   "metadata": {},
   "outputs": [
    {
     "name": "stdout",
     "output_type": "stream",
     "text": [
      "1\n",
      "(4,)\n",
      "2\n",
      "(4, 3)\n"
     ]
    }
   ],
   "source": [
    "#lets create array with single dinemtion or axis\n",
    "scores = np.array([1,2,3,4])\n",
    "print(scores.ndim)\n",
    "print(scores.shape)\n",
    "\n",
    "data = np.array([[1,2,3],[4,5,6],[7,8,9],[10,11,12]])\n",
    "print(data.ndim) #should be 2\n",
    "print(data.shape) # should be (4,3)"
   ]
  },
  {
   "cell_type": "code",
   "execution_count": null,
   "id": "386bf872",
   "metadata": {},
   "outputs": [],
   "source": []
  }
 ],
 "metadata": {
  "kernelspec": {
   "display_name": "Python 3 (ipykernel)",
   "language": "python",
   "name": "python3"
  },
  "language_info": {
   "codemirror_mode": {
    "name": "ipython",
    "version": 3
   },
   "file_extension": ".py",
   "mimetype": "text/x-python",
   "name": "python",
   "nbconvert_exporter": "python",
   "pygments_lexer": "ipython3",
   "version": "3.8.9"
  }
 },
 "nbformat": 4,
 "nbformat_minor": 5
}
